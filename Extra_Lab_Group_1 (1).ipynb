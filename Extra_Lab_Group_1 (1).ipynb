{
  "nbformat": 4,
  "nbformat_minor": 0,
  "metadata": {
    "colab": {
      "name": "Extra_Lab_Group_1.ipynb",
      "provenance": []
    },
    "kernelspec": {
      "name": "python3",
      "display_name": "Python 3"
    }
  },
  "cells": [
    {
      "cell_type": "markdown",
      "metadata": {
        "id": "e78F26jPp5Oy",
        "colab_type": "text"
      },
      "source": [
        "**ECO 7110  Econometrics II (Fall 2019)**"
      ]
    },
    {
      "cell_type": "markdown",
      "metadata": {
        "id": "hjWzBurTXXMq",
        "colab_type": "text"
      },
      "source": [
        "Send the solution (this notebook) to: econometrics.methods@gmail.com"
      ]
    },
    {
      "cell_type": "markdown",
      "metadata": {
        "id": "YKUVvesumu1s",
        "colab_type": "text"
      },
      "source": [
        "1) Does economic growth reduce the odds of civil conflict? Miguel, Satyanath, and Sergenti (2004)\n",
        "used an instrumental variables approach to assess the relationship between economic growth and\n",
        "civil war."
      ]
    },
    {
      "cell_type": "markdown",
      "metadata": {
        "id": "Q0cFw_Laxjmd",
        "colab_type": "text"
      },
      "source": [
        "**Data from:**\n",
        "Miguel, Edward, Shanker Satyanath, and Ernest Sergenti. 2004. Economic Shocks and Civil Conflict: An Instrumental Variables Approach. Journal of Political Economy 112 (4): 725–753. "
      ]
    },
    {
      "cell_type": "markdown",
      "metadata": {
        "id": "xKs9yWkYnlIV",
        "colab_type": "text"
      },
      "source": [
        "**Variables for for civil war and rain instrument data**\n",
        "\n",
        "**InternalConflict**:\tCoded 1 if civil war with greater than 25 deaths; 0 otherwise\n",
        "\n",
        "**LaggedGDPGrowth**:\tLagged GDP growth \n",
        "\n",
        "**InitialGDPpercap**: \tGDP per capita at the beginning of the period of analysis, 1979\n",
        "\n",
        "**Democracy**:\tA measure of democracy (called a “polity” score). Values range from –10 to 10\n",
        "\n",
        "**Mountains**:\tPercentage of the country that is mountainous terrain \n",
        "\n",
        "**EthnicFrac**:\tEthnic-linguistic fractionalization based on the Atlas Marodov Mira\n",
        "\n",
        "**ReligiousFrac**:\tReligious fractionalization\n",
        "\n",
        "**LaggedRainfallGrowth**:\tLagged estimate of average precipitation in millimeters per year\n"
      ]
    },
    {
      "cell_type": "code",
      "metadata": {
        "id": "tDBJdb8GqsOU",
        "colab_type": "code",
        "colab": {}
      },
      "source": [
        "import pandas as pd\n",
        "file = \"https://github.com/VitorKamada/ECO6100/raw/master/Data/RainIV.csv\" \n",
        "df = pd.read_csv(file)"
      ],
      "execution_count": 0,
      "outputs": []
    },
    {
      "cell_type": "code",
      "metadata": {
        "id": "2r57zeAPqvcj",
        "colab_type": "code",
        "outputId": "3eba140d-e975-4660-f1cc-e1601ad2f954",
        "colab": {
          "base_uri": "https://localhost:8080/",
          "height": 283
        }
      },
      "source": [
        "df.head(6)"
      ],
      "execution_count": 0,
      "outputs": [
        {
          "output_type": "execute_result",
          "data": {
            "text/html": [
              "<div>\n",
              "<style scoped>\n",
              "    .dataframe tbody tr th:only-of-type {\n",
              "        vertical-align: middle;\n",
              "    }\n",
              "\n",
              "    .dataframe tbody tr th {\n",
              "        vertical-align: top;\n",
              "    }\n",
              "\n",
              "    .dataframe thead th {\n",
              "        text-align: right;\n",
              "    }\n",
              "</style>\n",
              "<table border=\"1\" class=\"dataframe\">\n",
              "  <thead>\n",
              "    <tr style=\"text-align: right;\">\n",
              "      <th></th>\n",
              "      <th>year</th>\n",
              "      <th>country_name</th>\n",
              "      <th>country_code</th>\n",
              "      <th>GPCP</th>\n",
              "      <th>RainfallGrowth</th>\n",
              "      <th>LaggedRainfallGrowth</th>\n",
              "      <th>war_prio</th>\n",
              "      <th>InternalConflict</th>\n",
              "      <th>pop</th>\n",
              "      <th>lpopl1</th>\n",
              "      <th>Mountains</th>\n",
              "      <th>lmtnest</th>\n",
              "      <th>Oil</th>\n",
              "      <th>EthnicFrac</th>\n",
              "      <th>ReligiousFrac</th>\n",
              "      <th>Democracy</th>\n",
              "      <th>GDPGrowth</th>\n",
              "      <th>LaggedGDPGrowth</th>\n",
              "      <th>InitialGDP</th>\n",
              "      <th>polity2l_6</th>\n",
              "      <th>country1</th>\n",
              "      <th>country2</th>\n",
              "      <th>country3</th>\n",
              "      <th>country4</th>\n",
              "      <th>country5</th>\n",
              "      <th>country6</th>\n",
              "      <th>country7</th>\n",
              "      <th>country8</th>\n",
              "      <th>country9</th>\n",
              "      <th>country10</th>\n",
              "      <th>country11</th>\n",
              "      <th>country12</th>\n",
              "      <th>country13</th>\n",
              "      <th>country14</th>\n",
              "      <th>country15</th>\n",
              "      <th>country16</th>\n",
              "      <th>country17</th>\n",
              "      <th>country18</th>\n",
              "      <th>country19</th>\n",
              "      <th>country20</th>\n",
              "      <th>...</th>\n",
              "      <th>country_time22</th>\n",
              "      <th>country_time23</th>\n",
              "      <th>country_time24</th>\n",
              "      <th>country_time25</th>\n",
              "      <th>country_time26</th>\n",
              "      <th>country_time27</th>\n",
              "      <th>country_time28</th>\n",
              "      <th>country_time29</th>\n",
              "      <th>country_time30</th>\n",
              "      <th>country_time31</th>\n",
              "      <th>country_time32</th>\n",
              "      <th>country_time33</th>\n",
              "      <th>country_time34</th>\n",
              "      <th>country_time35</th>\n",
              "      <th>country_time36</th>\n",
              "      <th>country_time37</th>\n",
              "      <th>country_time38</th>\n",
              "      <th>country_time39</th>\n",
              "      <th>country_time40</th>\n",
              "      <th>country_time41</th>\n",
              "      <th>LaggedInternalConflict</th>\n",
              "      <th>yr1</th>\n",
              "      <th>yr2</th>\n",
              "      <th>yr3</th>\n",
              "      <th>yr4</th>\n",
              "      <th>yr5</th>\n",
              "      <th>yr6</th>\n",
              "      <th>yr7</th>\n",
              "      <th>yr8</th>\n",
              "      <th>yr9</th>\n",
              "      <th>yr10</th>\n",
              "      <th>yr11</th>\n",
              "      <th>yr12</th>\n",
              "      <th>yr13</th>\n",
              "      <th>yr14</th>\n",
              "      <th>yr15</th>\n",
              "      <th>yr16</th>\n",
              "      <th>yr17</th>\n",
              "      <th>yr18</th>\n",
              "      <th>yr19</th>\n",
              "    </tr>\n",
              "  </thead>\n",
              "  <tbody>\n",
              "    <tr>\n",
              "      <th>0</th>\n",
              "      <td>1981</td>\n",
              "      <td>Guinea-Bissau</td>\n",
              "      <td>GNB</td>\n",
              "      <td>1339.0579</td>\n",
              "      <td>0.170644</td>\n",
              "      <td>-0.048803</td>\n",
              "      <td>0</td>\n",
              "      <td>0</td>\n",
              "      <td>824.0</td>\n",
              "      <td>6.695799</td>\n",
              "      <td>0.0</td>\n",
              "      <td>0.0</td>\n",
              "      <td>0</td>\n",
              "      <td>0.803757</td>\n",
              "      <td>0.545</td>\n",
              "      <td>-7</td>\n",
              "      <td>0.216561</td>\n",
              "      <td>-0.152878</td>\n",
              "      <td>0.556</td>\n",
              "      <td>0</td>\n",
              "      <td>0</td>\n",
              "      <td>0</td>\n",
              "      <td>0</td>\n",
              "      <td>0</td>\n",
              "      <td>0</td>\n",
              "      <td>0</td>\n",
              "      <td>0</td>\n",
              "      <td>0</td>\n",
              "      <td>0</td>\n",
              "      <td>0</td>\n",
              "      <td>0</td>\n",
              "      <td>0</td>\n",
              "      <td>0</td>\n",
              "      <td>0</td>\n",
              "      <td>0</td>\n",
              "      <td>1</td>\n",
              "      <td>0</td>\n",
              "      <td>0</td>\n",
              "      <td>0</td>\n",
              "      <td>0</td>\n",
              "      <td>...</td>\n",
              "      <td>0</td>\n",
              "      <td>0</td>\n",
              "      <td>0</td>\n",
              "      <td>0</td>\n",
              "      <td>0</td>\n",
              "      <td>0</td>\n",
              "      <td>0</td>\n",
              "      <td>0</td>\n",
              "      <td>0</td>\n",
              "      <td>0</td>\n",
              "      <td>0</td>\n",
              "      <td>0</td>\n",
              "      <td>0</td>\n",
              "      <td>0</td>\n",
              "      <td>0</td>\n",
              "      <td>0</td>\n",
              "      <td>0</td>\n",
              "      <td>0</td>\n",
              "      <td>0</td>\n",
              "      <td>0</td>\n",
              "      <td>NaN</td>\n",
              "      <td>1</td>\n",
              "      <td>0</td>\n",
              "      <td>0</td>\n",
              "      <td>0</td>\n",
              "      <td>0</td>\n",
              "      <td>0</td>\n",
              "      <td>0</td>\n",
              "      <td>0</td>\n",
              "      <td>0</td>\n",
              "      <td>0</td>\n",
              "      <td>0</td>\n",
              "      <td>0</td>\n",
              "      <td>0</td>\n",
              "      <td>0</td>\n",
              "      <td>0</td>\n",
              "      <td>0</td>\n",
              "      <td>0</td>\n",
              "      <td>0</td>\n",
              "      <td>0</td>\n",
              "    </tr>\n",
              "    <tr>\n",
              "      <th>1</th>\n",
              "      <td>1982</td>\n",
              "      <td>Guinea-Bissau</td>\n",
              "      <td>GNB</td>\n",
              "      <td>1370.0729</td>\n",
              "      <td>0.023162</td>\n",
              "      <td>0.170644</td>\n",
              "      <td>0</td>\n",
              "      <td>0</td>\n",
              "      <td>839.0</td>\n",
              "      <td>6.714170</td>\n",
              "      <td>0.0</td>\n",
              "      <td>0.0</td>\n",
              "      <td>0</td>\n",
              "      <td>0.803757</td>\n",
              "      <td>0.545</td>\n",
              "      <td>-7</td>\n",
              "      <td>0.104712</td>\n",
              "      <td>0.216561</td>\n",
              "      <td>0.556</td>\n",
              "      <td>0</td>\n",
              "      <td>0</td>\n",
              "      <td>0</td>\n",
              "      <td>0</td>\n",
              "      <td>0</td>\n",
              "      <td>0</td>\n",
              "      <td>0</td>\n",
              "      <td>0</td>\n",
              "      <td>0</td>\n",
              "      <td>0</td>\n",
              "      <td>0</td>\n",
              "      <td>0</td>\n",
              "      <td>0</td>\n",
              "      <td>0</td>\n",
              "      <td>0</td>\n",
              "      <td>0</td>\n",
              "      <td>1</td>\n",
              "      <td>0</td>\n",
              "      <td>0</td>\n",
              "      <td>0</td>\n",
              "      <td>0</td>\n",
              "      <td>...</td>\n",
              "      <td>0</td>\n",
              "      <td>0</td>\n",
              "      <td>0</td>\n",
              "      <td>0</td>\n",
              "      <td>0</td>\n",
              "      <td>0</td>\n",
              "      <td>0</td>\n",
              "      <td>0</td>\n",
              "      <td>0</td>\n",
              "      <td>0</td>\n",
              "      <td>0</td>\n",
              "      <td>0</td>\n",
              "      <td>0</td>\n",
              "      <td>0</td>\n",
              "      <td>0</td>\n",
              "      <td>0</td>\n",
              "      <td>0</td>\n",
              "      <td>0</td>\n",
              "      <td>0</td>\n",
              "      <td>0</td>\n",
              "      <td>0.0</td>\n",
              "      <td>0</td>\n",
              "      <td>1</td>\n",
              "      <td>0</td>\n",
              "      <td>0</td>\n",
              "      <td>0</td>\n",
              "      <td>0</td>\n",
              "      <td>0</td>\n",
              "      <td>0</td>\n",
              "      <td>0</td>\n",
              "      <td>0</td>\n",
              "      <td>0</td>\n",
              "      <td>0</td>\n",
              "      <td>0</td>\n",
              "      <td>0</td>\n",
              "      <td>0</td>\n",
              "      <td>0</td>\n",
              "      <td>0</td>\n",
              "      <td>0</td>\n",
              "      <td>0</td>\n",
              "    </tr>\n",
              "    <tr>\n",
              "      <th>2</th>\n",
              "      <td>1983</td>\n",
              "      <td>Guinea-Bissau</td>\n",
              "      <td>GNB</td>\n",
              "      <td>1075.4572</td>\n",
              "      <td>-0.215037</td>\n",
              "      <td>0.023162</td>\n",
              "      <td>0</td>\n",
              "      <td>0</td>\n",
              "      <td>854.0</td>\n",
              "      <td>6.732211</td>\n",
              "      <td>0.0</td>\n",
              "      <td>0.0</td>\n",
              "      <td>0</td>\n",
              "      <td>0.803757</td>\n",
              "      <td>0.545</td>\n",
              "      <td>-7</td>\n",
              "      <td>-0.042654</td>\n",
              "      <td>0.104712</td>\n",
              "      <td>0.556</td>\n",
              "      <td>0</td>\n",
              "      <td>0</td>\n",
              "      <td>0</td>\n",
              "      <td>0</td>\n",
              "      <td>0</td>\n",
              "      <td>0</td>\n",
              "      <td>0</td>\n",
              "      <td>0</td>\n",
              "      <td>0</td>\n",
              "      <td>0</td>\n",
              "      <td>0</td>\n",
              "      <td>0</td>\n",
              "      <td>0</td>\n",
              "      <td>0</td>\n",
              "      <td>0</td>\n",
              "      <td>0</td>\n",
              "      <td>1</td>\n",
              "      <td>0</td>\n",
              "      <td>0</td>\n",
              "      <td>0</td>\n",
              "      <td>0</td>\n",
              "      <td>...</td>\n",
              "      <td>0</td>\n",
              "      <td>0</td>\n",
              "      <td>0</td>\n",
              "      <td>0</td>\n",
              "      <td>0</td>\n",
              "      <td>0</td>\n",
              "      <td>0</td>\n",
              "      <td>0</td>\n",
              "      <td>0</td>\n",
              "      <td>0</td>\n",
              "      <td>0</td>\n",
              "      <td>0</td>\n",
              "      <td>0</td>\n",
              "      <td>0</td>\n",
              "      <td>0</td>\n",
              "      <td>0</td>\n",
              "      <td>0</td>\n",
              "      <td>0</td>\n",
              "      <td>0</td>\n",
              "      <td>0</td>\n",
              "      <td>0.0</td>\n",
              "      <td>0</td>\n",
              "      <td>0</td>\n",
              "      <td>1</td>\n",
              "      <td>0</td>\n",
              "      <td>0</td>\n",
              "      <td>0</td>\n",
              "      <td>0</td>\n",
              "      <td>0</td>\n",
              "      <td>0</td>\n",
              "      <td>0</td>\n",
              "      <td>0</td>\n",
              "      <td>0</td>\n",
              "      <td>0</td>\n",
              "      <td>0</td>\n",
              "      <td>0</td>\n",
              "      <td>0</td>\n",
              "      <td>0</td>\n",
              "      <td>0</td>\n",
              "      <td>0</td>\n",
              "    </tr>\n",
              "    <tr>\n",
              "      <th>3</th>\n",
              "      <td>1984</td>\n",
              "      <td>Guinea-Bissau</td>\n",
              "      <td>GNB</td>\n",
              "      <td>1181.3462</td>\n",
              "      <td>0.098460</td>\n",
              "      <td>-0.215037</td>\n",
              "      <td>0</td>\n",
              "      <td>0</td>\n",
              "      <td>870.0</td>\n",
              "      <td>6.749931</td>\n",
              "      <td>0.0</td>\n",
              "      <td>0.0</td>\n",
              "      <td>0</td>\n",
              "      <td>0.803757</td>\n",
              "      <td>0.545</td>\n",
              "      <td>-7</td>\n",
              "      <td>0.034653</td>\n",
              "      <td>-0.042654</td>\n",
              "      <td>0.556</td>\n",
              "      <td>0</td>\n",
              "      <td>0</td>\n",
              "      <td>0</td>\n",
              "      <td>0</td>\n",
              "      <td>0</td>\n",
              "      <td>0</td>\n",
              "      <td>0</td>\n",
              "      <td>0</td>\n",
              "      <td>0</td>\n",
              "      <td>0</td>\n",
              "      <td>0</td>\n",
              "      <td>0</td>\n",
              "      <td>0</td>\n",
              "      <td>0</td>\n",
              "      <td>0</td>\n",
              "      <td>0</td>\n",
              "      <td>1</td>\n",
              "      <td>0</td>\n",
              "      <td>0</td>\n",
              "      <td>0</td>\n",
              "      <td>0</td>\n",
              "      <td>...</td>\n",
              "      <td>0</td>\n",
              "      <td>0</td>\n",
              "      <td>0</td>\n",
              "      <td>0</td>\n",
              "      <td>0</td>\n",
              "      <td>0</td>\n",
              "      <td>0</td>\n",
              "      <td>0</td>\n",
              "      <td>0</td>\n",
              "      <td>0</td>\n",
              "      <td>0</td>\n",
              "      <td>0</td>\n",
              "      <td>0</td>\n",
              "      <td>0</td>\n",
              "      <td>0</td>\n",
              "      <td>0</td>\n",
              "      <td>0</td>\n",
              "      <td>0</td>\n",
              "      <td>0</td>\n",
              "      <td>0</td>\n",
              "      <td>0.0</td>\n",
              "      <td>0</td>\n",
              "      <td>0</td>\n",
              "      <td>0</td>\n",
              "      <td>1</td>\n",
              "      <td>0</td>\n",
              "      <td>0</td>\n",
              "      <td>0</td>\n",
              "      <td>0</td>\n",
              "      <td>0</td>\n",
              "      <td>0</td>\n",
              "      <td>0</td>\n",
              "      <td>0</td>\n",
              "      <td>0</td>\n",
              "      <td>0</td>\n",
              "      <td>0</td>\n",
              "      <td>0</td>\n",
              "      <td>0</td>\n",
              "      <td>0</td>\n",
              "      <td>0</td>\n",
              "    </tr>\n",
              "    <tr>\n",
              "      <th>4</th>\n",
              "      <td>1985</td>\n",
              "      <td>Guinea-Bissau</td>\n",
              "      <td>GNB</td>\n",
              "      <td>1203.2623</td>\n",
              "      <td>0.018552</td>\n",
              "      <td>0.098460</td>\n",
              "      <td>0</td>\n",
              "      <td>0</td>\n",
              "      <td>886.0</td>\n",
              "      <td>6.768493</td>\n",
              "      <td>0.0</td>\n",
              "      <td>0.0</td>\n",
              "      <td>0</td>\n",
              "      <td>0.803757</td>\n",
              "      <td>0.545</td>\n",
              "      <td>-8</td>\n",
              "      <td>0.036683</td>\n",
              "      <td>0.034653</td>\n",
              "      <td>0.556</td>\n",
              "      <td>0</td>\n",
              "      <td>0</td>\n",
              "      <td>0</td>\n",
              "      <td>0</td>\n",
              "      <td>0</td>\n",
              "      <td>0</td>\n",
              "      <td>0</td>\n",
              "      <td>0</td>\n",
              "      <td>0</td>\n",
              "      <td>0</td>\n",
              "      <td>0</td>\n",
              "      <td>0</td>\n",
              "      <td>0</td>\n",
              "      <td>0</td>\n",
              "      <td>0</td>\n",
              "      <td>0</td>\n",
              "      <td>1</td>\n",
              "      <td>0</td>\n",
              "      <td>0</td>\n",
              "      <td>0</td>\n",
              "      <td>0</td>\n",
              "      <td>...</td>\n",
              "      <td>0</td>\n",
              "      <td>0</td>\n",
              "      <td>0</td>\n",
              "      <td>0</td>\n",
              "      <td>0</td>\n",
              "      <td>0</td>\n",
              "      <td>0</td>\n",
              "      <td>0</td>\n",
              "      <td>0</td>\n",
              "      <td>0</td>\n",
              "      <td>0</td>\n",
              "      <td>0</td>\n",
              "      <td>0</td>\n",
              "      <td>0</td>\n",
              "      <td>0</td>\n",
              "      <td>0</td>\n",
              "      <td>0</td>\n",
              "      <td>0</td>\n",
              "      <td>0</td>\n",
              "      <td>0</td>\n",
              "      <td>0.0</td>\n",
              "      <td>0</td>\n",
              "      <td>0</td>\n",
              "      <td>0</td>\n",
              "      <td>0</td>\n",
              "      <td>1</td>\n",
              "      <td>0</td>\n",
              "      <td>0</td>\n",
              "      <td>0</td>\n",
              "      <td>0</td>\n",
              "      <td>0</td>\n",
              "      <td>0</td>\n",
              "      <td>0</td>\n",
              "      <td>0</td>\n",
              "      <td>0</td>\n",
              "      <td>0</td>\n",
              "      <td>0</td>\n",
              "      <td>0</td>\n",
              "      <td>0</td>\n",
              "      <td>0</td>\n",
              "    </tr>\n",
              "    <tr>\n",
              "      <th>5</th>\n",
              "      <td>1986</td>\n",
              "      <td>Guinea-Bissau</td>\n",
              "      <td>GNB</td>\n",
              "      <td>1268.9373</td>\n",
              "      <td>0.054581</td>\n",
              "      <td>0.018552</td>\n",
              "      <td>0</td>\n",
              "      <td>0</td>\n",
              "      <td>903.0</td>\n",
              "      <td>6.786717</td>\n",
              "      <td>0.0</td>\n",
              "      <td>0.0</td>\n",
              "      <td>0</td>\n",
              "      <td>0.803757</td>\n",
              "      <td>0.545</td>\n",
              "      <td>-8</td>\n",
              "      <td>-0.035385</td>\n",
              "      <td>0.036683</td>\n",
              "      <td>0.556</td>\n",
              "      <td>0</td>\n",
              "      <td>0</td>\n",
              "      <td>0</td>\n",
              "      <td>0</td>\n",
              "      <td>0</td>\n",
              "      <td>0</td>\n",
              "      <td>0</td>\n",
              "      <td>0</td>\n",
              "      <td>0</td>\n",
              "      <td>0</td>\n",
              "      <td>0</td>\n",
              "      <td>0</td>\n",
              "      <td>0</td>\n",
              "      <td>0</td>\n",
              "      <td>0</td>\n",
              "      <td>0</td>\n",
              "      <td>1</td>\n",
              "      <td>0</td>\n",
              "      <td>0</td>\n",
              "      <td>0</td>\n",
              "      <td>0</td>\n",
              "      <td>...</td>\n",
              "      <td>0</td>\n",
              "      <td>0</td>\n",
              "      <td>0</td>\n",
              "      <td>0</td>\n",
              "      <td>0</td>\n",
              "      <td>0</td>\n",
              "      <td>0</td>\n",
              "      <td>0</td>\n",
              "      <td>0</td>\n",
              "      <td>0</td>\n",
              "      <td>0</td>\n",
              "      <td>0</td>\n",
              "      <td>0</td>\n",
              "      <td>0</td>\n",
              "      <td>0</td>\n",
              "      <td>0</td>\n",
              "      <td>0</td>\n",
              "      <td>0</td>\n",
              "      <td>0</td>\n",
              "      <td>0</td>\n",
              "      <td>0.0</td>\n",
              "      <td>0</td>\n",
              "      <td>0</td>\n",
              "      <td>0</td>\n",
              "      <td>0</td>\n",
              "      <td>0</td>\n",
              "      <td>1</td>\n",
              "      <td>0</td>\n",
              "      <td>0</td>\n",
              "      <td>0</td>\n",
              "      <td>0</td>\n",
              "      <td>0</td>\n",
              "      <td>0</td>\n",
              "      <td>0</td>\n",
              "      <td>0</td>\n",
              "      <td>0</td>\n",
              "      <td>0</td>\n",
              "      <td>0</td>\n",
              "      <td>0</td>\n",
              "      <td>0</td>\n",
              "    </tr>\n",
              "  </tbody>\n",
              "</table>\n",
              "<p>6 rows × 122 columns</p>\n",
              "</div>"
            ],
            "text/plain": [
              "   year   country_name country_code       GPCP  ...  yr16  yr17  yr18  yr19\n",
              "0  1981  Guinea-Bissau          GNB  1339.0579  ...     0     0     0     0\n",
              "1  1982  Guinea-Bissau          GNB  1370.0729  ...     0     0     0     0\n",
              "2  1983  Guinea-Bissau          GNB  1075.4572  ...     0     0     0     0\n",
              "3  1984  Guinea-Bissau          GNB  1181.3462  ...     0     0     0     0\n",
              "4  1985  Guinea-Bissau          GNB  1203.2623  ...     0     0     0     0\n",
              "5  1986  Guinea-Bissau          GNB  1268.9373  ...     0     0     0     0\n",
              "\n",
              "[6 rows x 122 columns]"
            ]
          },
          "metadata": {
            "tags": []
          },
          "execution_count": 2
        }
      ]
    },
    {
      "cell_type": "markdown",
      "metadata": {
        "id": "09kwmODtQUv0",
        "colab_type": "text"
      },
      "source": [
        "(a)\tEstimate a bivariate OLS model in which the occurrence of civil conflict is the dependent variable and lagged GDP growth is the independent variable. Comment on the results."
      ]
    },
    {
      "cell_type": "code",
      "metadata": {
        "id": "Mb-0RVuI5lro",
        "colab_type": "code",
        "colab": {}
      },
      "source": [
        "!pip install linearmodels\n",
        "import numpy as np\n",
        "import matplotlib.pyplot as plt\n",
        "from linearmodels import IV2SLS, IVLIML, IVGMM\n",
        "from statsmodels.api import OLS, add_constant\n",
        "import statsmodels.formula.api as smf"
      ],
      "execution_count": 0,
      "outputs": []
    },
    {
      "cell_type": "code",
      "metadata": {
        "id": "otSw5uqe64Hf",
        "colab_type": "code",
        "outputId": "e66148b0-f426-4ba1-9dc0-c31f18148216",
        "colab": {
          "base_uri": "https://localhost:8080/",
          "height": 437
        }
      },
      "source": [
        "ols1=smf.ols(\"InternalConflict~LaggedGDPGrowth\",df).fit()\n",
        "print(ols1.summary())"
      ],
      "execution_count": 0,
      "outputs": [
        {
          "output_type": "stream",
          "text": [
            "                            OLS Regression Results                            \n",
            "==============================================================================\n",
            "Dep. Variable:       InternalConflict   R-squared:                       0.000\n",
            "Model:                            OLS   Adj. R-squared:                 -0.001\n",
            "Method:                 Least Squares   F-statistic:                    0.1332\n",
            "Date:                Sat, 12 Oct 2019   Prob (F-statistic):              0.715\n",
            "Time:                        21:41:40   Log-Likelihood:                -448.98\n",
            "No. Observations:                 743   AIC:                             902.0\n",
            "Df Residuals:                     741   BIC:                             911.2\n",
            "Df Model:                           1                                         \n",
            "Covariance Type:            nonrobust                                         \n",
            "===================================================================================\n",
            "                      coef    std err          t      P>|t|      [0.025      0.975]\n",
            "-----------------------------------------------------------------------------------\n",
            "Intercept           0.2674      0.016     16.389      0.000       0.235       0.299\n",
            "LaggedGDPGrowth    -0.0821      0.225     -0.365      0.715      -0.523       0.359\n",
            "==============================================================================\n",
            "Omnibus:                      191.673   Durbin-Watson:                   0.489\n",
            "Prob(Omnibus):                  0.000   Jarque-Bera (JB):              161.201\n",
            "Skew:                           1.049   Prob(JB):                     9.90e-36\n",
            "Kurtosis:                       2.100   Cond. No.                         13.8\n",
            "==============================================================================\n",
            "\n",
            "Warnings:\n",
            "[1] Standard Errors assume that the covariance matrix of the errors is correctly specified.\n"
          ],
          "name": "stdout"
        }
      ]
    },
    {
      "cell_type": "markdown",
      "metadata": {
        "id": "7EiBc2Io67Uw",
        "colab_type": "text"
      },
      "source": [
        "Lagged GDP Growth has an insignificant impact on the occurance of civil conflict."
      ]
    },
    {
      "cell_type": "markdown",
      "metadata": {
        "id": "gExBpcTnQuiU",
        "colab_type": "text"
      },
      "source": [
        "(b)\tAdd control variables for initial GDP, democracy, mountains, and ethnic and religious fractionalization to the model in part (a). Do these results establish a causal relationship between the economy and civil conflict?"
      ]
    },
    {
      "cell_type": "code",
      "metadata": {
        "id": "Mqu2anYs7dtV",
        "colab_type": "code",
        "outputId": "e4205cb4-e069-4445-938c-238d457fed48",
        "colab": {
          "base_uri": "https://localhost:8080/",
          "height": 521
        }
      },
      "source": [
        "ols2=smf.ols(\"InternalConflict~LaggedGDPGrowth+InitialGDP+Democracy+Mountains+EthnicFrac+ReligiousFrac\",df).fit()\n",
        "print(ols2.summary())"
      ],
      "execution_count": 0,
      "outputs": [
        {
          "output_type": "stream",
          "text": [
            "                            OLS Regression Results                            \n",
            "==============================================================================\n",
            "Dep. Variable:       InternalConflict   R-squared:                       0.051\n",
            "Model:                            OLS   Adj. R-squared:                  0.043\n",
            "Method:                 Least Squares   F-statistic:                     6.600\n",
            "Date:                Sat, 12 Oct 2019   Prob (F-statistic):           8.28e-07\n",
            "Time:                        21:45:54   Log-Likelihood:                -429.58\n",
            "No. Observations:                 743   AIC:                             873.2\n",
            "Df Residuals:                     736   BIC:                             905.4\n",
            "Df Model:                           6                                         \n",
            "Covariance Type:            nonrobust                                         \n",
            "===================================================================================\n",
            "                      coef    std err          t      P>|t|      [0.025      0.975]\n",
            "-----------------------------------------------------------------------------------\n",
            "Intercept           0.0704      0.073      0.962      0.336      -0.073       0.214\n",
            "LaggedGDPGrowth    -0.1088      0.220     -0.494      0.621      -0.541       0.323\n",
            "InitialGDP         -0.0569      0.018     -3.122      0.002      -0.093      -0.021\n",
            "Democracy           0.0012      0.003      0.424      0.672      -0.004       0.007\n",
            "Mountains           0.0039      0.001      4.057      0.000       0.002       0.006\n",
            "EthnicFrac          0.3248      0.092      3.537      0.000       0.145       0.505\n",
            "ReligiousFrac       0.0105      0.096      0.110      0.913      -0.178       0.199\n",
            "==============================================================================\n",
            "Omnibus:                      149.075   Durbin-Watson:                   0.524\n",
            "Prob(Omnibus):                  0.000   Jarque-Bera (JB):              138.136\n",
            "Skew:                           0.975   Prob(JB):                     1.01e-30\n",
            "Kurtosis:                       2.190   Cond. No.                         359.\n",
            "==============================================================================\n",
            "\n",
            "Warnings:\n",
            "[1] Standard Errors assume that the covariance matrix of the errors is correctly specified.\n"
          ],
          "name": "stdout"
        }
      ]
    },
    {
      "cell_type": "markdown",
      "metadata": {
        "id": "ciLXpsyM8crV",
        "colab_type": "text"
      },
      "source": [
        "Lagged GDP growth is still an insignificant factor in determining whether a country will have civil conflict, but initial GDP is significant.  "
      ]
    },
    {
      "cell_type": "markdown",
      "metadata": {
        "id": "O5XSnsx4Q3yP",
        "colab_type": "text"
      },
      "source": [
        "(c)\tConsider lagged rainfall growth as an instrument for lagged GDP growth. What are the two conditions needed for a good instrument? Describe whether and how we test the two conditions. Provide appropriate statistical results."
      ]
    },
    {
      "cell_type": "markdown",
      "metadata": {
        "id": "d3u6IXIEPw8R",
        "colab_type": "text"
      },
      "source": [
        "The two conditions needed for a good instrument are that the instrument must be correlated with the endogenous variable it is an instrument for and that it cannot be correlated with the error term.  To test for correlation, we can run OLS with Lagged GDP Growth as the dependent variable and see if lagged rainfall growth has a significant coefficient:"
      ]
    },
    {
      "cell_type": "code",
      "metadata": {
        "id": "syGYM2GlRiUT",
        "colab_type": "code",
        "outputId": "402ba426-5cd0-4799-f8cc-f8ec3eeacf73",
        "colab": {
          "base_uri": "https://localhost:8080/",
          "height": 521
        }
      },
      "source": [
        "firststage=smf.ols(\"LaggedGDPGrowth~LaggedRainfallGrowth+InitialGDP+Democracy+Mountains+EthnicFrac+ReligiousFrac\",df).fit()\n",
        "print(firststage.summary())"
      ],
      "execution_count": 0,
      "outputs": [
        {
          "output_type": "stream",
          "text": [
            "                            OLS Regression Results                            \n",
            "==============================================================================\n",
            "Dep. Variable:        LaggedGDPGrowth   R-squared:                       0.018\n",
            "Model:                            OLS   Adj. R-squared:                  0.010\n",
            "Method:                 Least Squares   F-statistic:                     2.305\n",
            "Date:                Sat, 12 Oct 2019   Prob (F-statistic):             0.0327\n",
            "Time:                        23:21:36   Log-Likelihood:                 904.02\n",
            "No. Observations:                 743   AIC:                            -1794.\n",
            "Df Residuals:                     736   BIC:                            -1762.\n",
            "Df Model:                           6                                         \n",
            "Covariance Type:            nonrobust                                         \n",
            "========================================================================================\n",
            "                           coef    std err          t      P>|t|      [0.025      0.975]\n",
            "----------------------------------------------------------------------------------------\n",
            "Intercept               -0.0058      0.012     -0.477      0.633      -0.030       0.018\n",
            "LaggedRainfallGrowth     0.0440      0.013      3.432      0.001       0.019       0.069\n",
            "InitialGDP              -0.0008      0.003     -0.266      0.790      -0.007       0.005\n",
            "Democracy                0.0005      0.000      1.120      0.263      -0.000       0.001\n",
            "Mountains                0.0001      0.000      0.687      0.492      -0.000       0.000\n",
            "EthnicFrac               0.0032      0.015      0.207      0.836      -0.027       0.033\n",
            "ReligiousFrac           -0.0017      0.016     -0.108      0.914      -0.033       0.030\n",
            "==============================================================================\n",
            "Omnibus:                      206.281   Durbin-Watson:                   1.954\n",
            "Prob(Omnibus):                  0.000   Jarque-Bera (JB):             7011.490\n",
            "Skew:                           0.529   Prob(JB):                         0.00\n",
            "Kurtosis:                      18.012   Cond. No.                         187.\n",
            "==============================================================================\n",
            "\n",
            "Warnings:\n",
            "[1] Standard Errors assume that the covariance matrix of the errors is correctly specified.\n"
          ],
          "name": "stdout"
        }
      ]
    },
    {
      "cell_type": "markdown",
      "metadata": {
        "id": "aq-yjiyYRz6Y",
        "colab_type": "text"
      },
      "source": [
        "Lagged Rainfall growth does in fact have a significant relationship with Lagged GDP growth.\n",
        "\n",
        "The second criteria is not as easily testable.  However, it is reasonable to assume that rainfall can not be correlated with any excluded variables that might be in the error term.  Therefore, we can safely assume that Lagged Rainfall Growth passes both criteria of being a good instrument for Lagged GDP Growth."
      ]
    },
    {
      "cell_type": "markdown",
      "metadata": {
        "id": "NGocWVDDRa-T",
        "colab_type": "text"
      },
      "source": [
        "(d)\tExplain in your own words how instrumenting for GDP with rain could help us identify the causal effect of the economy on civil conflict. "
      ]
    },
    {
      "cell_type": "markdown",
      "metadata": {
        "id": "_bR8uEUVSihh",
        "colab_type": "text"
      },
      "source": [
        "By using rainfall as an instrumental variable for GDP, we are effectively removing the irrelevant variation in GDP that might be correlated with the error term and are left with the direct and unbiased effect of lagged GDP growth on civil conflict."
      ]
    },
    {
      "cell_type": "markdown",
      "metadata": {
        "id": "RwGEATZGRi28",
        "colab_type": "text"
      },
      "source": [
        "(e)\tUse the dependent and independent variables from part (b), but now instrument for lagged GDP growth with lagged rainfall growth. Comment on the results. "
      ]
    },
    {
      "cell_type": "code",
      "metadata": {
        "id": "W-kzKBkATuyv",
        "colab_type": "code",
        "outputId": "f932e1cf-2fcb-48a5-aab3-91e86eb50238",
        "colab": {
          "base_uri": "https://localhost:8080/",
          "height": 454
        }
      },
      "source": [
        "Xs = ['InitialGDP','Democracy','Mountains','EthnicFrac','ReligiousFrac']\n",
        "df['const'] = 1\n",
        "Xs = ['const'] + Xs\n",
        "ivmod = IV2SLS(df.InternalConflict, df[Xs],\n",
        "  df.LaggedGDPGrowth, df.LaggedRainfallGrowth)\n",
        "IV = ivmod.fit()\n",
        "print(IV.summary)"
      ],
      "execution_count": 0,
      "outputs": [
        {
          "output_type": "stream",
          "text": [
            "                          IV-2SLS Estimation Summary                          \n",
            "==============================================================================\n",
            "Dep. Variable:       InternalConflict   R-squared:                     -0.0506\n",
            "Estimator:                    IV-2SLS   Adj. R-squared:                -0.0592\n",
            "No. Observations:                 743   F-statistic:                    45.810\n",
            "Date:                Sat, Oct 12 2019   P-value (F-stat)                0.0000\n",
            "Time:                        23:34:01   Distribution:                  chi2(6)\n",
            "Cov. Estimator:                robust                                         \n",
            "                                                                              \n",
            "                                Parameter Estimates                                \n",
            "===================================================================================\n",
            "                 Parameter  Std. Err.     T-stat    P-value    Lower CI    Upper CI\n",
            "-----------------------------------------------------------------------------------\n",
            "const               0.0625     0.0847     0.7377     0.4607     -0.1036      0.2286\n",
            "InitialGDP         -0.0581     0.0154    -3.7775     0.0002     -0.0882     -0.0279\n",
            "Democracy           0.0024     0.0030     0.7984     0.4247     -0.0034      0.0082\n",
            "Mountains           0.0041     0.0010     3.8825     0.0001      0.0020      0.0061\n",
            "EthnicFrac          0.3289     0.0959     3.4302     0.0006      0.1410      0.5168\n",
            "ReligiousFrac       0.0047     0.0930     0.0508     0.9595     -0.1775      0.1870\n",
            "LaggedGDPGrowth    -2.0632     1.9839    -1.0400     0.2984     -5.9515      1.8252\n",
            "===================================================================================\n",
            "\n",
            "Endogenous: LaggedGDPGrowth\n",
            "Instruments: LaggedRainfallGrowth\n",
            "Robust Covariance (Heteroskedastic)\n",
            "Debiased: False\n"
          ],
          "name": "stdout"
        }
      ]
    },
    {
      "cell_type": "markdown",
      "metadata": {
        "id": "oFDOeqFQUrhx",
        "colab_type": "text"
      },
      "source": [
        "Lagged GDP Growth becomes more significant after using Lagged Rainfall Growth as an instrument, but it is still statistically insignificant in relation to civil conflict."
      ]
    },
    {
      "cell_type": "markdown",
      "metadata": {
        "colab_type": "text",
        "id": "XFGfAIvaWMoK"
      },
      "source": [
        "2) Are members of Congress more likely to meet with donors than with mere constituents? To answer this\n",
        "question, Kalla and Broockman (2015) conducted a field experiment in which they had political activists\n",
        "attempt to schedule meetings with 191 congressional offices regarding efforts to ban a potentially harmful\n",
        "chemical. The messages the activists sent out were randomized. Some messages described the people\n",
        "requesting the meeting as “local constituents,” and others described the people requesting the meeting as\n",
        "“local campaign donors.”"
      ]
    },
    {
      "cell_type": "markdown",
      "metadata": {
        "colab_type": "text",
        "id": "-obTDs1yWMoM"
      },
      "source": [
        "**Data from:**\n",
        "Kalla, Joshua L., and David E. Broockman. 2016. Congressional Officials Grant Access due to Campaign Contributions: A Randomized Field Experiment. American Journal of Political Science."
      ]
    },
    {
      "cell_type": "markdown",
      "metadata": {
        "colab_type": "text",
        "id": "Ym2D_I41WMoO"
      },
      "source": [
        "**Variables for Donor Experiment**\n",
        "\n",
        "**treat_donor**: Dummy variable indicating that activists seeking meeting were identified as donors (1 = donors, 0 =\n",
        "otherwise)\n",
        "\n",
        "**staffrank**: Highest-ranking person attending the meeting: 0 for no one attended meeting, 1 for non-policy staff, 2 for\n",
        "legislative assistant, 3 for legislative director, 4 for chief of staff, 5 for member of Congress\n"
      ]
    },
    {
      "cell_type": "code",
      "metadata": {
        "colab_type": "code",
        "id": "hXhkd-MhWMoQ",
        "colab": {}
      },
      "source": [
        "import pandas as pd\n",
        "file = \"https://github.com/VitorKamada/ECO6100/raw/master/Data/kalla-broockman-donor-access-2013-data.csv\" \n",
        "df = pd.read_csv(file)"
      ],
      "execution_count": 0,
      "outputs": []
    },
    {
      "cell_type": "code",
      "metadata": {
        "colab_type": "code",
        "outputId": "4e28c70f-bb08-44bf-b2d9-48634e0ceb55",
        "id": "gpTHps5rWMoX",
        "colab": {
          "base_uri": "https://localhost:8080/",
          "height": 195
        }
      },
      "source": [
        "df.head()"
      ],
      "execution_count": 0,
      "outputs": [
        {
          "output_type": "execute_result",
          "data": {
            "text/html": [
              "<div>\n",
              "<style scoped>\n",
              "    .dataframe tbody tr th:only-of-type {\n",
              "        vertical-align: middle;\n",
              "    }\n",
              "\n",
              "    .dataframe tbody tr th {\n",
              "        vertical-align: top;\n",
              "    }\n",
              "\n",
              "    .dataframe thead th {\n",
              "        text-align: right;\n",
              "    }\n",
              "</style>\n",
              "<table border=\"1\" class=\"dataframe\">\n",
              "  <thead>\n",
              "    <tr style=\"text-align: right;\">\n",
              "      <th></th>\n",
              "      <th>block</th>\n",
              "      <th>treat_donor</th>\n",
              "      <th>staffrank</th>\n",
              "      <th>mcID</th>\n",
              "    </tr>\n",
              "  </thead>\n",
              "  <tbody>\n",
              "    <tr>\n",
              "      <th>0</th>\n",
              "      <td>38</td>\n",
              "      <td>0</td>\n",
              "      <td>1</td>\n",
              "      <td>1</td>\n",
              "    </tr>\n",
              "    <tr>\n",
              "      <th>1</th>\n",
              "      <td>64</td>\n",
              "      <td>0</td>\n",
              "      <td>2</td>\n",
              "      <td>2</td>\n",
              "    </tr>\n",
              "    <tr>\n",
              "      <th>2</th>\n",
              "      <td>54</td>\n",
              "      <td>0</td>\n",
              "      <td>0</td>\n",
              "      <td>3</td>\n",
              "    </tr>\n",
              "    <tr>\n",
              "      <th>3</th>\n",
              "      <td>43</td>\n",
              "      <td>0</td>\n",
              "      <td>2</td>\n",
              "      <td>4</td>\n",
              "    </tr>\n",
              "    <tr>\n",
              "      <th>4</th>\n",
              "      <td>36</td>\n",
              "      <td>0</td>\n",
              "      <td>2</td>\n",
              "      <td>5</td>\n",
              "    </tr>\n",
              "  </tbody>\n",
              "</table>\n",
              "</div>"
            ],
            "text/plain": [
              "   block  treat_donor  staffrank  mcID\n",
              "0     38            0          1     1\n",
              "1     64            0          2     2\n",
              "2     54            0          0     3\n",
              "3     43            0          2     4\n",
              "4     36            0          2     5"
            ]
          },
          "metadata": {
            "tags": []
          },
          "execution_count": 61
        }
      ]
    },
    {
      "cell_type": "markdown",
      "metadata": {
        "id": "rSlTtygBpo0F",
        "colab_type": "text"
      },
      "source": [
        "(a)\tBefore we analyze the experimental data, let’s suppose we were to conduct an observational study of access based on a sample of Americans and we ran a regression in which the dependent variable indicates having met with a member of Congress and the independent variable was whether the individual donated money to a member of Congress. Would there be concerns about endogeneity? If so, why? \n"
      ]
    },
    {
      "cell_type": "markdown",
      "metadata": {
        "id": "oRQgqPXbWtd3",
        "colab_type": "text"
      },
      "source": [
        "Yes, there would be concerns about endogeneity.  Donating money is likely not the only factor that determines whether an individual meets with a member of Congress.  There could be plenty of people that donated money that were unable to meet with a member of Congress due to scheduling.  Also, members of Congress might be less likely to meet with donors if they don't want to give the impression that their power can be \"bought\"."
      ]
    },
    {
      "cell_type": "markdown",
      "metadata": {
        "id": "oztMxo61qGXz",
        "colab_type": "text"
      },
      "source": [
        "(b)\tUse a probit model to estimate the effect of the donor treatment condition on probability of meeting with a member of Congress. Interpret the results. "
      ]
    },
    {
      "cell_type": "code",
      "metadata": {
        "id": "zUMW8-GIYiRq",
        "colab_type": "code",
        "outputId": "146876ef-156d-475b-bbf6-a54e1eb07f8e",
        "colab": {
          "base_uri": "https://localhost:8080/",
          "height": 195
        }
      },
      "source": [
        "df['Congress'] = np.where(df['staffrank'] == 5,1,0)\n",
        "df.head()"
      ],
      "execution_count": 0,
      "outputs": [
        {
          "output_type": "execute_result",
          "data": {
            "text/html": [
              "<div>\n",
              "<style scoped>\n",
              "    .dataframe tbody tr th:only-of-type {\n",
              "        vertical-align: middle;\n",
              "    }\n",
              "\n",
              "    .dataframe tbody tr th {\n",
              "        vertical-align: top;\n",
              "    }\n",
              "\n",
              "    .dataframe thead th {\n",
              "        text-align: right;\n",
              "    }\n",
              "</style>\n",
              "<table border=\"1\" class=\"dataframe\">\n",
              "  <thead>\n",
              "    <tr style=\"text-align: right;\">\n",
              "      <th></th>\n",
              "      <th>block</th>\n",
              "      <th>treat_donor</th>\n",
              "      <th>staffrank</th>\n",
              "      <th>mcID</th>\n",
              "      <th>Congress</th>\n",
              "    </tr>\n",
              "  </thead>\n",
              "  <tbody>\n",
              "    <tr>\n",
              "      <th>0</th>\n",
              "      <td>38</td>\n",
              "      <td>0</td>\n",
              "      <td>1</td>\n",
              "      <td>1</td>\n",
              "      <td>0</td>\n",
              "    </tr>\n",
              "    <tr>\n",
              "      <th>1</th>\n",
              "      <td>64</td>\n",
              "      <td>0</td>\n",
              "      <td>2</td>\n",
              "      <td>2</td>\n",
              "      <td>0</td>\n",
              "    </tr>\n",
              "    <tr>\n",
              "      <th>2</th>\n",
              "      <td>54</td>\n",
              "      <td>0</td>\n",
              "      <td>0</td>\n",
              "      <td>3</td>\n",
              "      <td>0</td>\n",
              "    </tr>\n",
              "    <tr>\n",
              "      <th>3</th>\n",
              "      <td>43</td>\n",
              "      <td>0</td>\n",
              "      <td>2</td>\n",
              "      <td>4</td>\n",
              "      <td>0</td>\n",
              "    </tr>\n",
              "    <tr>\n",
              "      <th>4</th>\n",
              "      <td>36</td>\n",
              "      <td>0</td>\n",
              "      <td>2</td>\n",
              "      <td>5</td>\n",
              "      <td>0</td>\n",
              "    </tr>\n",
              "  </tbody>\n",
              "</table>\n",
              "</div>"
            ],
            "text/plain": [
              "   block  treat_donor  staffrank  mcID  Congress\n",
              "0     38            0          1     1         0\n",
              "1     64            0          2     2         0\n",
              "2     54            0          0     3         0\n",
              "3     43            0          2     4         0\n",
              "4     36            0          2     5         0"
            ]
          },
          "metadata": {
            "tags": []
          },
          "execution_count": 66
        }
      ]
    },
    {
      "cell_type": "code",
      "metadata": {
        "id": "c0qj_a5BYGK6",
        "colab_type": "code",
        "outputId": "82b0a5bb-fcf5-4442-a0d7-beb704d918ba",
        "colab": {
          "base_uri": "https://localhost:8080/",
          "height": 235
        }
      },
      "source": [
        "from statsmodels.discrete.discrete_model import Probit\n",
        "prob1 = Probit(df.Congress,df.treat_donor).fit()\n",
        "prob1mef = prob1.get_margeff()\n",
        "print(prob1mef.summary())"
      ],
      "execution_count": 0,
      "outputs": [
        {
          "output_type": "stream",
          "text": [
            "Optimization terminated successfully.\n",
            "         Current function value: 0.552756\n",
            "         Iterations 6\n",
            "       Probit Marginal Effects       \n",
            "=====================================\n",
            "Dep. Variable:               Congress\n",
            "Method:                          dydx\n",
            "At:                           overall\n",
            "===============================================================================\n",
            "                 dy/dx    std err          z      P>|z|      [0.025      0.975]\n",
            "-------------------------------------------------------------------------------\n",
            "treat_donor    -0.4455      0.050     -8.984      0.000      -0.543      -0.348\n",
            "===============================================================================\n"
          ],
          "name": "stdout"
        }
      ]
    },
    {
      "cell_type": "markdown",
      "metadata": {
        "id": "XuvWiYYaihv6",
        "colab_type": "text"
      },
      "source": [
        "Donors are significantly less likely to meet with members of Congress based on the simple Probit regression."
      ]
    },
    {
      "cell_type": "markdown",
      "metadata": {
        "id": "XEMGxPUXVZeY",
        "colab_type": "text"
      },
      "source": [
        "(c)\tWhat factors are missing from the model? What does this omission mean for our results? "
      ]
    },
    {
      "cell_type": "markdown",
      "metadata": {
        "id": "q-S4A860j2kt",
        "colab_type": "text"
      },
      "source": [
        "The model does not differentiate donors based on the amounts they donated.  This could significantly impact their chances for meeting with a member of Congress if the theory is that donations influence probability of a meeting with a Congress member."
      ]
    },
    {
      "cell_type": "markdown",
      "metadata": {
        "id": "vsrj_mGiVuK9",
        "colab_type": "text"
      },
      "source": [
        "(d)\tUse a linear probability model (LPM) to make your estimate. Interpret the results. Assess the correlation of the fitted values from the probit and LPM models."
      ]
    },
    {
      "cell_type": "code",
      "metadata": {
        "id": "fM88nTVskvHW",
        "colab_type": "code",
        "outputId": "b6066522-d2e1-4256-f901-e3197c0da509",
        "colab": {
          "base_uri": "https://localhost:8080/",
          "height": 437
        }
      },
      "source": [
        "LPM = smf.ols(\"Congress~treat_donor\",df).fit()\n",
        "print(LPM.summary())"
      ],
      "execution_count": 0,
      "outputs": [
        {
          "output_type": "stream",
          "text": [
            "                            OLS Regression Results                            \n",
            "==============================================================================\n",
            "Dep. Variable:               Congress   R-squared:                       0.016\n",
            "Model:                            OLS   Adj. R-squared:                  0.011\n",
            "Method:                 Least Squares   F-statistic:                     3.169\n",
            "Date:                Sun, 13 Oct 2019   Prob (F-statistic):             0.0766\n",
            "Time:                        00:45:21   Log-Likelihood:                 37.663\n",
            "No. Observations:                 191   AIC:                            -71.33\n",
            "Df Residuals:                     189   BIC:                            -64.82\n",
            "Df Model:                           1                                         \n",
            "Covariance Type:            nonrobust                                         \n",
            "===============================================================================\n",
            "                  coef    std err          t      P>|t|      [0.025      0.975]\n",
            "-------------------------------------------------------------------------------\n",
            "Intercept       0.0236      0.018      1.333      0.184      -0.011       0.059\n",
            "treat_donor     0.0545      0.031      1.780      0.077      -0.006       0.115\n",
            "==============================================================================\n",
            "Omnibus:                      202.249   Durbin-Watson:                   2.110\n",
            "Prob(Omnibus):                  0.000   Jarque-Bera (JB):             3300.828\n",
            "Skew:                           4.460   Prob(JB):                         0.00\n",
            "Kurtosis:                      21.308   Cond. No.                         2.41\n",
            "==============================================================================\n",
            "\n",
            "Warnings:\n",
            "[1] Standard Errors assume that the covariance matrix of the errors is correctly specified.\n"
          ],
          "name": "stdout"
        }
      ]
    },
    {
      "cell_type": "markdown",
      "metadata": {
        "id": "xoskC9fgmTgH",
        "colab_type": "text"
      },
      "source": [
        "The results of the probit model are statistically significant, while the results of the Linear probability model are not.  According to the LPM, being a donor is not significantly correlated with meeting with a higher staff rank."
      ]
    },
    {
      "cell_type": "markdown",
      "metadata": {
        "id": "yZTiTSjcqdGD",
        "colab_type": "text"
      },
      "source": [
        "(e)\tUse an LPM model to assess the probability of meeting with a senior staffer (defined as staffrank > 2). Interpret the results."
      ]
    },
    {
      "cell_type": "code",
      "metadata": {
        "id": "KDP0jgKnl8co",
        "colab_type": "code",
        "outputId": "d9a9184e-5f51-4298-a02c-7f87f14a7b67",
        "colab": {
          "base_uri": "https://localhost:8080/",
          "height": 437
        }
      },
      "source": [
        "df['SeniorStaff'] = np.where(df['staffrank'] > 2,1,0)\n",
        "LPM2 = smf.ols(\"SeniorStaff~treat_donor\",df).fit()\n",
        "print(LPM2.summary())"
      ],
      "execution_count": 0,
      "outputs": [
        {
          "output_type": "stream",
          "text": [
            "                            OLS Regression Results                            \n",
            "==============================================================================\n",
            "Dep. Variable:            SeniorStaff   R-squared:                       0.044\n",
            "Model:                            OLS   Adj. R-squared:                  0.039\n",
            "Method:                 Least Squares   F-statistic:                     8.613\n",
            "Date:                Sun, 13 Oct 2019   Prob (F-statistic):            0.00375\n",
            "Time:                        00:51:06   Log-Likelihood:                -36.357\n",
            "No. Observations:                 191   AIC:                             76.71\n",
            "Df Residuals:                     189   BIC:                             83.22\n",
            "Df Model:                           1                                         \n",
            "Covariance Type:            nonrobust                                         \n",
            "===============================================================================\n",
            "                  coef    std err          t      P>|t|      [0.025      0.975]\n",
            "-------------------------------------------------------------------------------\n",
            "Intercept       0.0551      0.026      2.111      0.036       0.004       0.107\n",
            "treat_donor     0.1324      0.045      2.935      0.004       0.043       0.221\n",
            "==============================================================================\n",
            "Omnibus:                      108.940   Durbin-Watson:                   2.001\n",
            "Prob(Omnibus):                  0.000   Jarque-Bera (JB):              379.143\n",
            "Skew:                           2.501   Prob(JB):                     4.68e-83\n",
            "Kurtosis:                       7.756   Cond. No.                         2.41\n",
            "==============================================================================\n",
            "\n",
            "Warnings:\n",
            "[1] Standard Errors assume that the covariance matrix of the errors is correctly specified.\n"
          ],
          "name": "stdout"
        }
      ]
    },
    {
      "cell_type": "markdown",
      "metadata": {
        "id": "tkTYPhAhmoq5",
        "colab_type": "text"
      },
      "source": [
        "Donors are 13.24% more likely to meet with a senior staff member than non-donors.  The results are statistically significant."
      ]
    },
    {
      "cell_type": "markdown",
      "metadata": {
        "colab_type": "text",
        "id": "ipRTjcR0XH2L"
      },
      "source": [
        "3) In 1993, Georgia initiated a HOPE scholarship program to let state residents who had at least a B\n",
        "average in high school attend public college in Georgia for free. The program is not need based.\n",
        "Did the program increase college enrollment? Or did it simply transfer funds to families who\n",
        "would have sent their children to college anyway? Dynarski (2000) used data on young people in\n",
        "Georgia and neighboring states to assess this question"
      ]
    },
    {
      "cell_type": "markdown",
      "metadata": {
        "colab_type": "text",
        "id": "J9eCKe8EXH2O"
      },
      "source": [
        "**Data from:**\n",
        "Dynarski, Susan. 2000. Hope for Whom? Financial Aid for the Middle Class and Its Impact on College Attendance. National Tax Journal 53 (3, part 2): 629–662."
      ]
    },
    {
      "cell_type": "markdown",
      "metadata": {
        "colab_type": "text",
        "id": "s5Svw9DZXH2Q"
      },
      "source": [
        "**Variables the HOPE Scholarship Data**\n",
        "\n",
        "**InCollege**: A dummy variable equal to 1 if the individual is in college\n",
        "\n",
        "**AfterGeorgia**: A dummy variable equal to 1 for Georgia residents after 1992\n",
        "\n",
        "**Georgia**: A dummy variable equal to 1 if the individual is a Georgia resident\n",
        "\n",
        "**After**: A dummy variable equal to 1 for observations after 1992\n",
        "\n",
        "**Age**: Age\n",
        "\n",
        "**Age18**: A dummy variable equal to 1 if the individual is 18 years old\n",
        "\n",
        "**Black**: A dummy variable equal to 1 if the individual is African-American\n",
        "\n",
        "**StateCode**: State codes\n",
        "\n",
        "**Year**: Year of observation\n",
        "\n",
        "**Weight**: Weight used in Dynarski (2000)\n"
      ]
    },
    {
      "cell_type": "code",
      "metadata": {
        "colab_type": "code",
        "id": "Y4b0VddbXH2S",
        "colab": {}
      },
      "source": [
        "import pandas as pd\n",
        "import numpy as np\n",
        "file = \"https://github.com/VitorKamada/ECO6100/raw/master/Data/HOPE_HW.csv\" \n",
        "df = pd.read_csv(file)"
      ],
      "execution_count": 0,
      "outputs": []
    },
    {
      "cell_type": "code",
      "metadata": {
        "colab_type": "code",
        "outputId": "78954645-b513-499d-d4bf-0889dab7d56f",
        "id": "buIf6sKEXH2Y",
        "colab": {
          "base_uri": "https://localhost:8080/",
          "height": 204
        }
      },
      "source": [
        "df.head()"
      ],
      "execution_count": 0,
      "outputs": [
        {
          "output_type": "execute_result",
          "data": {
            "text/html": [
              "<div>\n",
              "<style scoped>\n",
              "    .dataframe tbody tr th:only-of-type {\n",
              "        vertical-align: middle;\n",
              "    }\n",
              "\n",
              "    .dataframe tbody tr th {\n",
              "        vertical-align: top;\n",
              "    }\n",
              "\n",
              "    .dataframe thead th {\n",
              "        text-align: right;\n",
              "    }\n",
              "</style>\n",
              "<table border=\"1\" class=\"dataframe\">\n",
              "  <thead>\n",
              "    <tr style=\"text-align: right;\">\n",
              "      <th></th>\n",
              "      <th>StateCode</th>\n",
              "      <th>Age</th>\n",
              "      <th>Year</th>\n",
              "      <th>Weight</th>\n",
              "      <th>Age18</th>\n",
              "      <th>LowIncome</th>\n",
              "      <th>InCollege</th>\n",
              "      <th>After</th>\n",
              "      <th>Georgia</th>\n",
              "      <th>AfterGeorgia</th>\n",
              "      <th>Black</th>\n",
              "    </tr>\n",
              "  </thead>\n",
              "  <tbody>\n",
              "    <tr>\n",
              "      <th>0</th>\n",
              "      <td>56</td>\n",
              "      <td>19</td>\n",
              "      <td>89</td>\n",
              "      <td>1396.0</td>\n",
              "      <td>0</td>\n",
              "      <td>1.0</td>\n",
              "      <td>1</td>\n",
              "      <td>0</td>\n",
              "      <td>0</td>\n",
              "      <td>0</td>\n",
              "      <td>0</td>\n",
              "    </tr>\n",
              "    <tr>\n",
              "      <th>1</th>\n",
              "      <td>56</td>\n",
              "      <td>19</td>\n",
              "      <td>89</td>\n",
              "      <td>1080.0</td>\n",
              "      <td>0</td>\n",
              "      <td>NaN</td>\n",
              "      <td>1</td>\n",
              "      <td>0</td>\n",
              "      <td>0</td>\n",
              "      <td>0</td>\n",
              "      <td>1</td>\n",
              "    </tr>\n",
              "    <tr>\n",
              "      <th>2</th>\n",
              "      <td>56</td>\n",
              "      <td>18</td>\n",
              "      <td>89</td>\n",
              "      <td>924.0</td>\n",
              "      <td>1</td>\n",
              "      <td>1.0</td>\n",
              "      <td>1</td>\n",
              "      <td>0</td>\n",
              "      <td>0</td>\n",
              "      <td>0</td>\n",
              "      <td>0</td>\n",
              "    </tr>\n",
              "    <tr>\n",
              "      <th>3</th>\n",
              "      <td>56</td>\n",
              "      <td>19</td>\n",
              "      <td>89</td>\n",
              "      <td>891.0</td>\n",
              "      <td>0</td>\n",
              "      <td>0.0</td>\n",
              "      <td>1</td>\n",
              "      <td>0</td>\n",
              "      <td>0</td>\n",
              "      <td>0</td>\n",
              "      <td>0</td>\n",
              "    </tr>\n",
              "    <tr>\n",
              "      <th>4</th>\n",
              "      <td>56</td>\n",
              "      <td>19</td>\n",
              "      <td>89</td>\n",
              "      <td>1395.0</td>\n",
              "      <td>0</td>\n",
              "      <td>NaN</td>\n",
              "      <td>0</td>\n",
              "      <td>0</td>\n",
              "      <td>0</td>\n",
              "      <td>0</td>\n",
              "      <td>0</td>\n",
              "    </tr>\n",
              "  </tbody>\n",
              "</table>\n",
              "</div>"
            ],
            "text/plain": [
              "   StateCode  Age  Year  Weight  ...  After  Georgia  AfterGeorgia  Black\n",
              "0         56   19    89  1396.0  ...      0        0             0      0\n",
              "1         56   19    89  1080.0  ...      0        0             0      1\n",
              "2         56   18    89   924.0  ...      0        0             0      0\n",
              "3         56   19    89   891.0  ...      0        0             0      0\n",
              "4         56   19    89  1395.0  ...      0        0             0      0\n",
              "\n",
              "[5 rows x 11 columns]"
            ]
          },
          "metadata": {
            "tags": []
          },
          "execution_count": 2
        }
      ]
    },
    {
      "cell_type": "markdown",
      "metadata": {
        "colab_type": "text",
        "id": "uZA6Ee9nXH2g"
      },
      "source": [
        "(a)\tRun a basic difference-in-difference model. What is the effect of the program?\n"
      ]
    },
    {
      "cell_type": "code",
      "metadata": {
        "id": "OAZS5dUnsnC3",
        "colab_type": "code",
        "outputId": "babba0f6-8130-49b2-efa3-649b7be56255",
        "colab": {
          "base_uri": "https://localhost:8080/",
          "height": 470
        }
      },
      "source": [
        "DD = smf.ols(\"InCollege~After+Georgia+AfterGeorgia\",df).fit()\n",
        "print(DD.summary())"
      ],
      "execution_count": 0,
      "outputs": [
        {
          "output_type": "stream",
          "text": [
            "                            OLS Regression Results                            \n",
            "==============================================================================\n",
            "Dep. Variable:              InCollege   R-squared:                       0.002\n",
            "Model:                            OLS   Adj. R-squared:                  0.001\n",
            "Method:                 Least Squares   F-statistic:                     2.681\n",
            "Date:                Sun, 13 Oct 2019   Prob (F-statistic):             0.0453\n",
            "Time:                        01:20:28   Log-Likelihood:                -3019.2\n",
            "No. Observations:                4291   AIC:                             6046.\n",
            "Df Residuals:                    4287   BIC:                             6072.\n",
            "Df Model:                           3                                         \n",
            "Covariance Type:            nonrobust                                         \n",
            "================================================================================\n",
            "                   coef    std err          t      P>|t|      [0.025      0.975]\n",
            "--------------------------------------------------------------------------------\n",
            "Intercept        0.4058      0.011     37.146      0.000       0.384       0.427\n",
            "After           -0.0045      0.016     -0.281      0.778      -0.036       0.027\n",
            "Georgia         -0.1052      0.038     -2.785      0.005      -0.179      -0.031\n",
            "AfterGeorgia     0.0893      0.049      1.827      0.068      -0.007       0.185\n",
            "==============================================================================\n",
            "Omnibus:                    17002.411   Durbin-Watson:                   2.019\n",
            "Prob(Omnibus):                  0.000   Jarque-Bera (JB):              715.660\n",
            "Skew:                           0.415   Prob(JB):                    3.95e-156\n",
            "Kurtosis:                       1.179   Cond. No.                         9.03\n",
            "==============================================================================\n",
            "\n",
            "Warnings:\n",
            "[1] Standard Errors assume that the covariance matrix of the errors is correctly specified.\n"
          ],
          "name": "stdout"
        }
      ]
    },
    {
      "cell_type": "markdown",
      "metadata": {
        "id": "fqTmDwYStQHc",
        "colab_type": "text"
      },
      "source": [
        "The effect is not quite significant at the 5% level, but the simple diff-in-diff model indicates the program increased college enrollment by about 8.9%."
      ]
    },
    {
      "cell_type": "markdown",
      "metadata": {
        "colab_type": "text",
        "id": "VC5bgRC_XH2i"
      },
      "source": [
        "(b)\tCalculate the percentage of people in the sample in college from the following four groups: (i) Before 1993/non-Georgia, (ii) Before 1993/Georgia, (iii) After 1992/non-Georgia, and (iv) After 1992/Georgia. First, use the mean function from Python. Second, use the coefficients from the OLS output in part (a)."
      ]
    },
    {
      "cell_type": "markdown",
      "metadata": {
        "id": "a7qyRZgjRQXc",
        "colab_type": "text"
      },
      "source": [
        "The DiD regression above calculates the mean as the intercept.  The percentage calculations are as follows:\n",
        "\n",
        "(i) Equal to intercept value of 0.4058 since both After and Georgia equal 0\n",
        "\n",
        "(ii) Intercept (.4058) - Georgia coef (.1052) = .3005\n",
        "\n",
        "(iii) Intercept (.4058) - After coef (.0045) = .4013\n",
        "\n",
        "(iv) Intercept (.4058) - Georgia coef (.1052) - After coef (.0045) + AfterGeorgia coef (.0893) = 0.3854\n",
        "\n",
        "These results are confirmed below."
      ]
    },
    {
      "cell_type": "code",
      "metadata": {
        "id": "MhV1-KF895RF",
        "colab_type": "code",
        "outputId": "a692dee8-db1d-4fec-cfc1-98de5b0f0436",
        "colab": {
          "base_uri": "https://localhost:8080/",
          "height": 34
        }
      },
      "source": [
        "df['InCollege'].count()"
      ],
      "execution_count": 0,
      "outputs": [
        {
          "output_type": "execute_result",
          "data": {
            "text/plain": [
              "4291"
            ]
          },
          "metadata": {
            "tags": []
          },
          "execution_count": 101
        }
      ]
    },
    {
      "cell_type": "code",
      "metadata": {
        "id": "D5Wyx7Vvu52F",
        "colab_type": "code",
        "outputId": "ebc522fd-8fce-4474-a022-29bfb5164087",
        "colab": {
          "base_uri": "https://localhost:8080/",
          "height": 34
        }
      },
      "source": [
        "Pre93nonGA = df[(df['Year'] < 93)]\n",
        "Pre93nonGA = Pre93nonGA[(Pre93nonGA['Georgia'] == False)]\n",
        "Pre93nonGA[(Pre93nonGA['InCollege']==1)]['Georgia'].count()/Pre93nonGA['Georgia'].count()"
      ],
      "execution_count": 0,
      "outputs": [
        {
          "output_type": "execute_result",
          "data": {
            "text/plain": [
              "0.4057826520438684"
            ]
          },
          "metadata": {
            "tags": []
          },
          "execution_count": 105
        }
      ]
    },
    {
      "cell_type": "code",
      "metadata": {
        "id": "vakowhOO9AWZ",
        "colab_type": "code",
        "outputId": "0abf855d-683b-4f1b-88b8-548d8b010d4d",
        "colab": {
          "base_uri": "https://localhost:8080/",
          "height": 34
        }
      },
      "source": [
        "Pre93GA = df[(df['Year'] < 93)]\n",
        "Pre93GA = Pre93GA[(Pre93GA['Georgia'] == True)]\n",
        "Pre93GA[(Pre93GA['InCollege']==1)]['Georgia'].count()/Pre93GA['Georgia'].count()"
      ],
      "execution_count": 0,
      "outputs": [
        {
          "output_type": "execute_result",
          "data": {
            "text/plain": [
              "0.3005464480874317"
            ]
          },
          "metadata": {
            "tags": []
          },
          "execution_count": 106
        }
      ]
    },
    {
      "cell_type": "code",
      "metadata": {
        "id": "F2JfoA3b9J14",
        "colab_type": "code",
        "outputId": "d2adcc86-5a0c-4742-9b5b-4517cc9b9be7",
        "colab": {
          "base_uri": "https://localhost:8080/",
          "height": 34
        }
      },
      "source": [
        "Post92nonGA = df[(df['Year'] > 92)]\n",
        "Post92nonGA = Post92nonGA[(Post92nonGA['Georgia'] == False)]\n",
        "Post92nonGA[(Post92nonGA['InCollege']==1)]['Georgia'].count()/Post92nonGA['Georgia'].count()"
      ],
      "execution_count": 0,
      "outputs": [
        {
          "output_type": "execute_result",
          "data": {
            "text/plain": [
              "0.4013230429988975"
            ]
          },
          "metadata": {
            "tags": []
          },
          "execution_count": 107
        }
      ]
    },
    {
      "cell_type": "code",
      "metadata": {
        "id": "xa2Ktg-8-jcq",
        "colab_type": "code",
        "outputId": "2f57df03-ef0d-467f-8fde-0d6b26e4185e",
        "colab": {
          "base_uri": "https://localhost:8080/",
          "height": 34
        }
      },
      "source": [
        "Post92GA = df[(df['Year'] > 92)]\n",
        "Post92GA = Post92GA[(Post92GA['Georgia'] == True)]\n",
        "Post92GA[(Post92GA['InCollege']==1)]['Georgia'].count()/Post92GA['Georgia'].count()"
      ],
      "execution_count": 0,
      "outputs": [
        {
          "output_type": "execute_result",
          "data": {
            "text/plain": [
              "0.3854166666666667"
            ]
          },
          "metadata": {
            "tags": []
          },
          "execution_count": 109
        }
      ]
    },
    {
      "cell_type": "markdown",
      "metadata": {
        "colab_type": "text",
        "id": "Pb7wI_C3XH2j"
      },
      "source": [
        "(c)\tUse panel data formulation for a difference-in-difference model to control for all year and state effects."
      ]
    },
    {
      "cell_type": "code",
      "metadata": {
        "id": "MzGJ_yesu5Si",
        "colab_type": "code",
        "outputId": "8afcc40c-255a-4ddb-d85e-15db70475acb",
        "colab": {
          "base_uri": "https://localhost:8080/",
          "height": 588
        }
      },
      "source": [
        "from linearmodels import PanelOLS\n",
        "import statsmodels.api as sm\n",
        "Year = pd.Categorical(df.Year)\n",
        "StateCode = pd.Categorical(df.StateCode)\n",
        "df = df.set_index(['StateCode', 'Year'])\n",
        "df['StateCode'] = StateCode\n",
        "df['Year'] = Year\n",
        "exog_vars = ['AfterGeorgia']\n",
        "exog = sm.add_constant(df[exog_vars])\n",
        "panelmod = PanelOLS(df.InCollege, exog, entity_effects=True, \n",
        " drop_absorbed=True).fit(cov_type='clustered', cluster_entity=True)\n",
        "print(panelmod)"
      ],
      "execution_count": 0,
      "outputs": [
        {
          "output_type": "stream",
          "text": [
            "                          PanelOLS Estimation Summary                           \n",
            "================================================================================\n",
            "Dep. Variable:              InCollege   R-squared:                        0.0008\n",
            "Estimator:                   PanelOLS   R-squared (Between):             -0.4760\n",
            "No. Observations:                4291   R-squared (Within):               0.0008\n",
            "Date:                Sun, Oct 13 2019   R-squared (Overall):             -0.0025\n",
            "Time:                        01:50:11   Log-likelihood                   -3004.6\n",
            "Cov. Estimator:             Clustered                                           \n",
            "                                        F-statistic:                      3.3877\n",
            "Entities:                           6   P-value                           0.0658\n",
            "Avg Obs:                       715.17   Distribution:                  F(1,4284)\n",
            "Min Obs:                       403.00                                           \n",
            "Max Obs:                       1280.0   F-statistic (robust):          6.855e+28\n",
            "                                        P-value                           0.0000\n",
            "Time periods:                       9   Distribution:                  F(1,4284)\n",
            "Avg Obs:                       476.78                                           \n",
            "Min Obs:                       377.00                                           \n",
            "Max Obs:                       636.00                                           \n",
            "                                                                                \n",
            "                              Parameter Estimates                               \n",
            "================================================================================\n",
            "              Parameter  Std. Err.     T-stat    P-value    Lower CI    Upper CI\n",
            "--------------------------------------------------------------------------------\n",
            "const            0.3923  3.711e-16  1.057e+15     0.0000      0.3923      0.3923\n",
            "AfterGeorgia     0.0849  3.241e-16  2.618e+14     0.0000      0.0849      0.0849\n",
            "================================================================================\n",
            "\n",
            "F-test for Poolability: 7.4433\n",
            "P-value: 0.0000\n",
            "Distribution: F(5,4284)\n",
            "\n",
            "Included effects: Entity\n"
          ],
          "name": "stdout"
        },
        {
          "output_type": "stream",
          "text": [
            "/usr/local/lib/python3.6/dist-packages/numpy/core/fromnumeric.py:2389: FutureWarning: Method .ptp is deprecated and will be removed in a future version. Use numpy.ptp instead.\n",
            "  return ptp(axis=axis, out=out, **kwargs)\n"
          ],
          "name": "stderr"
        }
      ]
    },
    {
      "cell_type": "markdown",
      "metadata": {
        "id": "IbQw1KiRrQfM",
        "colab_type": "text"
      },
      "source": [
        "(d)\tAdd covariates for 18 year olds and African Americans to the panel data formulation. What is the effect of the HOPE program?"
      ]
    },
    {
      "cell_type": "code",
      "metadata": {
        "id": "bey4E_jH1idA",
        "colab_type": "code",
        "outputId": "cbcee389-f7e1-475e-d12f-a5e638a4556f",
        "colab": {
          "base_uri": "https://localhost:8080/",
          "height": 622
        }
      },
      "source": [
        "exog_vars = ['AfterGeorgia','Age18','Black']\n",
        "exog = sm.add_constant(df[exog_vars])\n",
        "panelmod = PanelOLS(df.InCollege, exog, entity_effects=True, \n",
        " drop_absorbed=True).fit(cov_type='clustered', cluster_entity=True)\n",
        "print(panelmod)"
      ],
      "execution_count": 0,
      "outputs": [
        {
          "output_type": "stream",
          "text": [
            "                          PanelOLS Estimation Summary                           \n",
            "================================================================================\n",
            "Dep. Variable:              InCollege   R-squared:                        0.0191\n",
            "Estimator:                   PanelOLS   R-squared (Between):             -0.6244\n",
            "No. Observations:                4291   R-squared (Within):               0.0191\n",
            "Date:                Sun, Oct 13 2019   R-squared (Overall):              0.0149\n",
            "Time:                        01:59:01   Log-likelihood                   -2964.9\n",
            "Cov. Estimator:             Clustered                                           \n",
            "                                        F-statistic:                      27.814\n",
            "Entities:                           6   P-value                           0.0000\n",
            "Avg Obs:                       715.17   Distribution:                  F(3,4282)\n",
            "Min Obs:                       403.00                                           \n",
            "Max Obs:                       1280.0   F-statistic (robust):         -1.359e+19\n",
            "                                        P-value                           1.0000\n",
            "Time periods:                       9   Distribution:                  F(3,4282)\n",
            "Avg Obs:                       476.78                                           \n",
            "Min Obs:                       377.00                                           \n",
            "Max Obs:                       636.00                                           \n",
            "                                                                                \n",
            "                              Parameter Estimates                               \n",
            "================================================================================\n",
            "              Parameter  Std. Err.     T-stat    P-value    Lower CI    Upper CI\n",
            "--------------------------------------------------------------------------------\n",
            "const            0.4553     0.0089     51.350     0.0000      0.4379      0.4727\n",
            "AfterGeorgia     0.0779     0.0004     184.06     0.0000      0.0770      0.0787\n",
            "Age18           -0.0511     0.0123    -4.1750     0.0000     -0.0752     -0.0271\n",
            "Black           -0.1394     0.0112    -12.499     0.0000     -0.1613     -0.1176\n",
            "================================================================================\n",
            "\n",
            "F-test for Poolability: 8.8621\n",
            "P-value: 0.0000\n",
            "Distribution: F(5,4282)\n",
            "\n",
            "Included effects: Entity\n"
          ],
          "name": "stdout"
        },
        {
          "output_type": "stream",
          "text": [
            "/usr/local/lib/python3.6/dist-packages/numpy/core/fromnumeric.py:2389: FutureWarning: Method .ptp is deprecated and will be removed in a future version. Use numpy.ptp instead.\n",
            "  return ptp(axis=axis, out=out, **kwargs)\n"
          ],
          "name": "stderr"
        }
      ]
    },
    {
      "cell_type": "markdown",
      "metadata": {
        "id": "30RP2Rur19XE",
        "colab_type": "text"
      },
      "source": [
        "The effect of the program is a 7.79% increase in college enrollment.  The result is statistically significant."
      ]
    },
    {
      "cell_type": "markdown",
      "metadata": {
        "id": "ZlHR-BxZs7y8",
        "colab_type": "text"
      },
      "source": [
        "(e)\tThe way the program was designed, Georgia high school graduates with a B average or higher and annual family income greater than $50,000 could qualify for HOPE by filling out a simple one-page form. Those with lower income were required to apply for federal aid with a complex four-page form and had any federal aid deducted from their HOPE scholarship. Consider that Blacks are more likely to be lower income.  Run separate basic difference-in-difference models for these two groups and comment on the substantive implication of the results.  "
      ]
    },
    {
      "cell_type": "code",
      "metadata": {
        "id": "S67pOorn2ba7",
        "colab_type": "code",
        "outputId": "ee887d0f-8cd2-465a-9f4c-014fb65d5c07",
        "colab": {
          "base_uri": "https://localhost:8080/",
          "height": 605
        }
      },
      "source": [
        "exog_vars = ['AfterGeorgia','Black']\n",
        "exog = sm.add_constant(df[exog_vars])\n",
        "panelmod = PanelOLS(df.InCollege, exog, entity_effects=True, \n",
        " drop_absorbed=True).fit(cov_type='clustered', cluster_entity=True)\n",
        "print(panelmod)"
      ],
      "execution_count": 0,
      "outputs": [
        {
          "output_type": "stream",
          "text": [
            "                          PanelOLS Estimation Summary                           \n",
            "================================================================================\n",
            "Dep. Variable:              InCollege   R-squared:                        0.0164\n",
            "Estimator:                   PanelOLS   R-squared (Between):             -0.5873\n",
            "No. Observations:                4291   R-squared (Within):               0.0164\n",
            "Date:                Sun, Oct 13 2019   R-squared (Overall):              0.0124\n",
            "Time:                        02:02:47   Log-likelihood                   -2970.9\n",
            "Cov. Estimator:             Clustered                                           \n",
            "                                        F-statistic:                      35.634\n",
            "Entities:                           6   P-value                           0.0000\n",
            "Avg Obs:                       715.17   Distribution:                  F(2,4283)\n",
            "Min Obs:                       403.00                                           \n",
            "Max Obs:                       1280.0   F-statistic (robust):         -3.059e+19\n",
            "                                        P-value                           1.0000\n",
            "Time periods:                       9   Distribution:                  F(2,4283)\n",
            "Avg Obs:                       476.78                                           \n",
            "Min Obs:                       377.00                                           \n",
            "Max Obs:                       636.00                                           \n",
            "                                                                                \n",
            "                              Parameter Estimates                               \n",
            "================================================================================\n",
            "              Parameter  Std. Err.     T-stat    P-value    Lower CI    Upper CI\n",
            "--------------------------------------------------------------------------------\n",
            "const            0.4295     0.0029     146.15     0.0000      0.4237      0.4352\n",
            "AfterGeorgia     0.0751     0.0008     97.292     0.0000      0.0736      0.0766\n",
            "Black           -0.1403     0.0111    -12.631     0.0000     -0.1621     -0.1185\n",
            "================================================================================\n",
            "\n",
            "F-test for Poolability: 8.6781\n",
            "P-value: 0.0000\n",
            "Distribution: F(5,4283)\n",
            "\n",
            "Included effects: Entity\n"
          ],
          "name": "stdout"
        },
        {
          "output_type": "stream",
          "text": [
            "/usr/local/lib/python3.6/dist-packages/numpy/core/fromnumeric.py:2389: FutureWarning: Method .ptp is deprecated and will be removed in a future version. Use numpy.ptp instead.\n",
            "  return ptp(axis=axis, out=out, **kwargs)\n"
          ],
          "name": "stderr"
        }
      ]
    },
    {
      "cell_type": "code",
      "metadata": {
        "id": "sd_FZMf_2qTb",
        "colab_type": "code",
        "outputId": "590b0b63-4bda-4d9c-be5e-966a955d99ae",
        "colab": {
          "base_uri": "https://localhost:8080/",
          "height": 655
        }
      },
      "source": [
        "exog_vars = ['AfterGeorgia','LowIncome']\n",
        "exog = sm.add_constant(df[exog_vars])\n",
        "panelmod = PanelOLS(df.InCollege, exog, entity_effects=True, \n",
        " drop_absorbed=True).fit(cov_type='clustered', cluster_entity=True)\n",
        "print(panelmod)"
      ],
      "execution_count": 0,
      "outputs": [
        {
          "output_type": "stream",
          "text": [
            "                          PanelOLS Estimation Summary                           \n",
            "================================================================================\n",
            "Dep. Variable:              InCollege   R-squared:                        0.0844\n",
            "Estimator:                   PanelOLS   R-squared (Between):              0.1618\n",
            "No. Observations:                2967   R-squared (Within):               0.0844\n",
            "Date:                Sun, Oct 13 2019   R-squared (Overall):              0.0856\n",
            "Time:                        02:03:05   Log-likelihood                   -2001.0\n",
            "Cov. Estimator:             Clustered                                           \n",
            "                                        F-statistic:                      136.42\n",
            "Entities:                           6   P-value                           0.0000\n",
            "Avg Obs:                       494.50   Distribution:                  F(2,2959)\n",
            "Min Obs:                       277.00                                           \n",
            "Max Obs:                       865.00   F-statistic (robust):          1.238e+17\n",
            "                                        P-value                           0.0000\n",
            "Time periods:                       9   Distribution:                  F(2,2959)\n",
            "Avg Obs:                       329.67                                           \n",
            "Min Obs:                       263.00                                           \n",
            "Max Obs:                       429.00                                           \n",
            "                                                                                \n",
            "                              Parameter Estimates                               \n",
            "================================================================================\n",
            "              Parameter  Std. Err.     T-stat    P-value    Lower CI    Upper CI\n",
            "--------------------------------------------------------------------------------\n",
            "const            0.6873     0.0211     32.555     0.0000      0.6459      0.7287\n",
            "AfterGeorgia    -0.0265     0.0057    -4.6339     0.0000     -0.0378     -0.0153\n",
            "LowIncome       -0.3198     0.0291    -10.975     0.0000     -0.3769     -0.2626\n",
            "================================================================================\n",
            "\n",
            "F-test for Poolability: 3.0673\n",
            "P-value: 0.0091\n",
            "Distribution: F(5,2959)\n",
            "\n",
            "Included effects: Entity\n"
          ],
          "name": "stdout"
        },
        {
          "output_type": "stream",
          "text": [
            "/usr/local/lib/python3.6/dist-packages/numpy/core/fromnumeric.py:2389: FutureWarning: Method .ptp is deprecated and will be removed in a future version. Use numpy.ptp instead.\n",
            "  return ptp(axis=axis, out=out, **kwargs)\n",
            "/usr/local/lib/python3.6/dist-packages/linearmodels/utility.py:478: MissingValueWarning: \n",
            "Inputs contain missing values. Dropping rows with missing observations.\n",
            "  warnings.warn(missing_value_warning_msg, MissingValueWarning)\n"
          ],
          "name": "stderr"
        }
      ]
    },
    {
      "cell_type": "markdown",
      "metadata": {
        "id": "oNOUSoto3FR9",
        "colab_type": "text"
      },
      "source": [
        "Low income is a substantially more significant predictor of college enrollment than being African-American.  After controlling for low income, the impact of the program actually became negative: students were 2.65% less likely to enroll in college after the HOPE program was implemented."
      ]
    },
    {
      "cell_type": "markdown",
      "metadata": {
        "colab_type": "text",
        "id": "EuuMTr9TXqR6"
      },
      "source": [
        "4) Congressional elections are decided by a clear rule: whoever gets the most votes in\n",
        "November wins. Because virtually every congressional race in the United States is between\n",
        "two parties, whoever gets more than 50 percent of the vote wins. We can use this fact to\n",
        "estimate the effect of political party on ideology. Some argue that Republicans and\n",
        "Democrats are very distinctive; others argue that members of Congress have strong\n",
        "incentives to respond to the median voter in their districts, regardless of party. We can\n",
        "assess how much party matters by looking at the ideology of members of Congress in the\n",
        "112th Congress (which covered the years 2011 and 2012)."
      ]
    },
    {
      "cell_type": "markdown",
      "metadata": {
        "colab_type": "text",
        "id": "HAaer-W3XqR8"
      },
      "source": [
        "**Data from:**\n",
        "Bailey, Michael A., Jon Mummolo, and Hans Noel. 2012. Tea Party Influence: A Story of Activists and Elites. American Politics Research 40(5): 769–804."
      ]
    },
    {
      "cell_type": "markdown",
      "metadata": {
        "colab_type": "text",
        "id": "JvbB3DOGXqR-"
      },
      "source": [
        "**Variables for Congressional Ideology Data**\n",
        "\n",
        "**GOP2party2010**: The percent of the vote received by the Republican congressional candidate in the\n",
        "district in 2010. Ranges from 0 to 1.\n",
        "\n",
        "**GOPwin2010**: Dummy variable indicating Republican won; equals 1 if GOP2party2010 > 0.5 and\n",
        "equals 0 otherwise.\n",
        "\n",
        "**Ideology**: The conservativism of the member of Congress as measured by Carroll, Lewis, Lo,\n",
        "Poole, and Rosenthal (2009, 2014). Ranges from –0.779 to 1.293. Higher value\n",
        "indicate more conservative voting in Congress.\n",
        "\n",
        "**ChildPoverty**: Percentage of district children living in poverty. Ranges from 0.03 to 0.49.\n",
        "\n",
        "**MedianIncome**: Median income in the district. Ranges from \\$23,291 to \\$103,664.\n",
        "\n",
        "**Obama2008**: Percent of vote for Barack Obama in the district in 2008 presidential election. Ranges\n",
        "from 0.23 to 0.95.\n",
        "\n",
        "**WhitePct**: Percent of the district that is non-Hispanic white. Ranges from 0.03 to 0.97.\n"
      ]
    },
    {
      "cell_type": "code",
      "metadata": {
        "colab_type": "code",
        "id": "I3bSNsxJXqSA",
        "colab": {}
      },
      "source": [
        "import pandas as pd\n",
        "file = \"https://github.com/VitorKamada/ECO6100/raw/master/Data/CongressRD.csv\" \n",
        "df = pd.read_csv(file)"
      ],
      "execution_count": 0,
      "outputs": []
    },
    {
      "cell_type": "code",
      "metadata": {
        "colab_type": "code",
        "outputId": "8369054d-e473-4e7a-f531-bbcc274a63c3",
        "id": "jGAu6RyrXqSG",
        "colab": {
          "base_uri": "https://localhost:8080/",
          "height": 204
        }
      },
      "source": [
        "df.head()"
      ],
      "execution_count": 0,
      "outputs": [
        {
          "output_type": "execute_result",
          "data": {
            "text/html": [
              "<div>\n",
              "<style scoped>\n",
              "    .dataframe tbody tr th:only-of-type {\n",
              "        vertical-align: middle;\n",
              "    }\n",
              "\n",
              "    .dataframe tbody tr th {\n",
              "        vertical-align: top;\n",
              "    }\n",
              "\n",
              "    .dataframe thead th {\n",
              "        text-align: right;\n",
              "    }\n",
              "</style>\n",
              "<table border=\"1\" class=\"dataframe\">\n",
              "  <thead>\n",
              "    <tr style=\"text-align: right;\">\n",
              "      <th></th>\n",
              "      <th>ChildPoverty</th>\n",
              "      <th>MedianIncome</th>\n",
              "      <th>Obama2008</th>\n",
              "      <th>GOP2party2010</th>\n",
              "      <th>GOPwin2010</th>\n",
              "      <th>WhitePct</th>\n",
              "      <th>Ideology</th>\n",
              "    </tr>\n",
              "  </thead>\n",
              "  <tbody>\n",
              "    <tr>\n",
              "      <th>0</th>\n",
              "      <td>0.27</td>\n",
              "      <td>39597.0</td>\n",
              "      <td>0.39</td>\n",
              "      <td>1.000</td>\n",
              "      <td>1.0</td>\n",
              "      <td>0.68</td>\n",
              "      <td>0.460</td>\n",
              "    </tr>\n",
              "    <tr>\n",
              "      <th>1</th>\n",
              "      <td>0.29</td>\n",
              "      <td>37289.0</td>\n",
              "      <td>0.36</td>\n",
              "      <td>0.511</td>\n",
              "      <td>1.0</td>\n",
              "      <td>0.67</td>\n",
              "      <td>0.443</td>\n",
              "    </tr>\n",
              "    <tr>\n",
              "      <th>2</th>\n",
              "      <td>0.25</td>\n",
              "      <td>38079.0</td>\n",
              "      <td>0.43</td>\n",
              "      <td>0.595</td>\n",
              "      <td>1.0</td>\n",
              "      <td>0.65</td>\n",
              "      <td>0.426</td>\n",
              "    </tr>\n",
              "    <tr>\n",
              "      <th>3</th>\n",
              "      <td>0.26</td>\n",
              "      <td>35719.0</td>\n",
              "      <td>0.23</td>\n",
              "      <td>1.000</td>\n",
              "      <td>1.0</td>\n",
              "      <td>0.90</td>\n",
              "      <td>0.467</td>\n",
              "    </tr>\n",
              "    <tr>\n",
              "      <th>4</th>\n",
              "      <td>0.19</td>\n",
              "      <td>43832.0</td>\n",
              "      <td>0.38</td>\n",
              "      <td>0.580</td>\n",
              "      <td>1.0</td>\n",
              "      <td>0.78</td>\n",
              "      <td>0.797</td>\n",
              "    </tr>\n",
              "  </tbody>\n",
              "</table>\n",
              "</div>"
            ],
            "text/plain": [
              "   ChildPoverty  MedianIncome  Obama2008  ...  GOPwin2010  WhitePct  Ideology\n",
              "0          0.27       39597.0       0.39  ...         1.0      0.68     0.460\n",
              "1          0.29       37289.0       0.36  ...         1.0      0.67     0.443\n",
              "2          0.25       38079.0       0.43  ...         1.0      0.65     0.426\n",
              "3          0.26       35719.0       0.23  ...         1.0      0.90     0.467\n",
              "4          0.19       43832.0       0.38  ...         1.0      0.78     0.797\n",
              "\n",
              "[5 rows x 7 columns]"
            ]
          },
          "metadata": {
            "tags": []
          },
          "execution_count": 69
        }
      ]
    },
    {
      "cell_type": "markdown",
      "metadata": {
        "colab_type": "text",
        "id": "iktL7QhEXqSO"
      },
      "source": [
        "(a)\tSuppose we try to explain congressional ideology as a function of political party only. Explain how endogeneity might be a problem."
      ]
    },
    {
      "cell_type": "markdown",
      "metadata": {
        "id": "QXLbqOapTT-t",
        "colab_type": "text"
      },
      "source": [
        "A politician might change their ideology based on what they think will get them the most votes or benefit them the most.  Even if a Congress member is a Republican, they have an incentive to appeal to moderate voters to get more votes.  Congress members can also have views on certain issues that contradict their party's typical ideology, but still identify as part of that political party.  In this way, congressional ideology is endogenous to the function.  "
      ]
    },
    {
      "cell_type": "markdown",
      "metadata": {
        "colab_type": "text",
        "id": "7K_u_lzDXqSQ"
      },
      "source": [
        "(b)\tHow can an RD model fight endogeneity when we are trying to assess whether and how party affects congressional ideology?"
      ]
    },
    {
      "cell_type": "markdown",
      "metadata": {
        "id": "9aDuuG0WX4es",
        "colab_type": "text"
      },
      "source": [
        "By comparing the outcomes of conservative politicians who got close to 50% of the votes in their district, we can exploit the exogenous characteristics of the voting outcomes and find the local treatment effect."
      ]
    },
    {
      "cell_type": "markdown",
      "metadata": {
        "colab_type": "text",
        "id": "ZDJ2uuVOXqSS"
      },
      "source": [
        "(c)\tGenerate a scatterplot of congressional ideology against GOP2party and, based on this plot, discuss what you think the RD will indicate. "
      ]
    },
    {
      "cell_type": "code",
      "metadata": {
        "id": "evdzruoabJFR",
        "colab_type": "code",
        "outputId": "92c437a0-795e-4b45-c0cc-2cf2826505ff",
        "colab": {
          "base_uri": "https://localhost:8080/",
          "height": 295
        }
      },
      "source": [
        "import numpy as np\n",
        "import matplotlib.pyplot as plt\n",
        "plt.scatter(df.GOP2party2010, df.Ideology,s=10)\n",
        "plt.title('Scatter plot')\n",
        "plt.xlabel('GOP2party2010')\n",
        "plt.ylabel('Ideology')\n",
        "plt.show()"
      ],
      "execution_count": 6,
      "outputs": [
        {
          "output_type": "display_data",
          "data": {
            "image/png": "[encoded data removed]",
            "text/plain": [
              "<Figure size 432x288 with 1 Axes>"
            ]
          },
          "metadata": {
            "tags": []
          }
        }
      ]
    },
    {
      "cell_type": "markdown",
      "metadata": {
        "id": "v3eInQQadkkA",
        "colab_type": "text"
      },
      "source": [
        "The scatterplot shows a clear postive relationship between a more conservative ideology and obtaining more votes as a GOP politician in 2010.  The RD function will show a clear effect that more conservative politicians will be more likely to be elected if they are part of the GOP."
      ]
    },
    {
      "cell_type": "markdown",
      "metadata": {
        "colab_type": "text",
        "id": "NxJG1k7UXqSU"
      },
      "source": [
        "(d)\tWrite down a basic RD model for this question and explain the terms. "
      ]
    },
    {
      "cell_type": "markdown",
      "metadata": {
        "id": "HvLAJwsJejSW",
        "colab_type": "text"
      },
      "source": [
        "Ideology = B0 + B1GOP2party2010 + B2GOPwin2010"
      ]
    },
    {
      "cell_type": "markdown",
      "metadata": {
        "colab_type": "text",
        "id": "YjGj_5FsXqSW"
      },
      "source": [
        "(e)\tEstimate a basic RD model and interpret coefficients."
      ]
    },
    {
      "cell_type": "code",
      "metadata": {
        "id": "POat4ck6gC17",
        "colab_type": "code",
        "outputId": "b7c840f2-6d51-4b76-9acf-3b9d4946545b",
        "colab": {
          "base_uri": "https://localhost:8080/",
          "height": 454
        }
      },
      "source": [
        "from statsmodels.api import OLS, add_constant\n",
        "import statsmodels.formula.api as smf\n",
        "RD = smf.ols(\"Ideology~GOP2party2010+GOPwin2010\",df).fit()\n",
        "print(RD.summary())"
      ],
      "execution_count": 7,
      "outputs": [
        {
          "output_type": "stream",
          "text": [
            "                            OLS Regression Results                            \n",
            "==============================================================================\n",
            "Dep. Variable:               Ideology   R-squared:                       0.926\n",
            "Model:                            OLS   Adj. R-squared:                  0.926\n",
            "Method:                 Least Squares   F-statistic:                     2686.\n",
            "Date:                Thu, 24 Oct 2019   Prob (F-statistic):          2.47e-243\n",
            "Time:                        01:17:44   Log-Likelihood:                 204.79\n",
            "No. Observations:                 432   AIC:                            -403.6\n",
            "Df Residuals:                     429   BIC:                            -391.4\n",
            "Df Model:                           2                                         \n",
            "Covariance Type:            nonrobust                                         \n",
            "=================================================================================\n",
            "                    coef    std err          t      P>|t|      [0.025      0.975]\n",
            "---------------------------------------------------------------------------------\n",
            "Intercept        -0.4751      0.022    -21.159      0.000      -0.519      -0.431\n",
            "GOP2party2010     0.2304      0.057      4.035      0.000       0.118       0.343\n",
            "GOPwin2010        0.9952      0.024     41.788      0.000       0.948       1.042\n",
            "==============================================================================\n",
            "Omnibus:                        7.340   Durbin-Watson:                   1.736\n",
            "Prob(Omnibus):                  0.025   Jarque-Bera (JB):               10.248\n",
            "Skew:                           0.115   Prob(JB):                      0.00595\n",
            "Kurtosis:                       3.719   Cond. No.                         11.3\n",
            "==============================================================================\n",
            "\n",
            "Warnings:\n",
            "[1] Standard Errors assume that the covariance matrix of the errors is correctly specified.\n"
          ],
          "name": "stdout"
        }
      ]
    },
    {
      "cell_type": "markdown",
      "metadata": {
        "id": "yvTC2e2OkMOp",
        "colab_type": "text"
      },
      "source": [
        "GOP politicians who won greater than 50% of the vote in 2010 had about a .99 higher conservative ideology than the GOP politicians who did not win at least 50% of the votes. The slope of the regression is .2304, which can be interpreted as conservatism increases by .02304 for every 10% increase in votes obtained by a GOP congressional candidate."
      ]
    },
    {
      "cell_type": "markdown",
      "metadata": {
        "id": "R_4tVsy0tZhr",
        "colab_type": "text"
      },
      "source": [
        "(f)\tCreate an adjusted assignment variable (equal to GOP2party2010 – 0.50) and use it to estimate a varying-slopes RD model and interpret the coefficients. "
      ]
    },
    {
      "cell_type": "code",
      "metadata": {
        "id": "L5OIY1KDkirW",
        "colab_type": "code",
        "outputId": "c448fd71-f4a9-4299-a3b6-6f0e35fae8a2",
        "colab": {
          "base_uri": "https://localhost:8080/",
          "height": 195
        }
      },
      "source": [
        "df['GOP2party2010adj'] = df['GOP2party2010'] - .5\n",
        "df.head()"
      ],
      "execution_count": 8,
      "outputs": [
        {
          "output_type": "execute_result",
          "data": {
            "text/html": [
              "<div>\n",
              "<style scoped>\n",
              "    .dataframe tbody tr th:only-of-type {\n",
              "        vertical-align: middle;\n",
              "    }\n",
              "\n",
              "    .dataframe tbody tr th {\n",
              "        vertical-align: top;\n",
              "    }\n",
              "\n",
              "    .dataframe thead th {\n",
              "        text-align: right;\n",
              "    }\n",
              "</style>\n",
              "<table border=\"1\" class=\"dataframe\">\n",
              "  <thead>\n",
              "    <tr style=\"text-align: right;\">\n",
              "      <th></th>\n",
              "      <th>ChildPoverty</th>\n",
              "      <th>MedianIncome</th>\n",
              "      <th>Obama2008</th>\n",
              "      <th>GOP2party2010</th>\n",
              "      <th>GOPwin2010</th>\n",
              "      <th>WhitePct</th>\n",
              "      <th>Ideology</th>\n",
              "      <th>GOP2party2010adj</th>\n",
              "    </tr>\n",
              "  </thead>\n",
              "  <tbody>\n",
              "    <tr>\n",
              "      <th>0</th>\n",
              "      <td>0.27</td>\n",
              "      <td>39597.0</td>\n",
              "      <td>0.39</td>\n",
              "      <td>1.000</td>\n",
              "      <td>1.0</td>\n",
              "      <td>0.68</td>\n",
              "      <td>0.460</td>\n",
              "      <td>0.500</td>\n",
              "    </tr>\n",
              "    <tr>\n",
              "      <th>1</th>\n",
              "      <td>0.29</td>\n",
              "      <td>37289.0</td>\n",
              "      <td>0.36</td>\n",
              "      <td>0.511</td>\n",
              "      <td>1.0</td>\n",
              "      <td>0.67</td>\n",
              "      <td>0.443</td>\n",
              "      <td>0.011</td>\n",
              "    </tr>\n",
              "    <tr>\n",
              "      <th>2</th>\n",
              "      <td>0.25</td>\n",
              "      <td>38079.0</td>\n",
              "      <td>0.43</td>\n",
              "      <td>0.595</td>\n",
              "      <td>1.0</td>\n",
              "      <td>0.65</td>\n",
              "      <td>0.426</td>\n",
              "      <td>0.095</td>\n",
              "    </tr>\n",
              "    <tr>\n",
              "      <th>3</th>\n",
              "      <td>0.26</td>\n",
              "      <td>35719.0</td>\n",
              "      <td>0.23</td>\n",
              "      <td>1.000</td>\n",
              "      <td>1.0</td>\n",
              "      <td>0.90</td>\n",
              "      <td>0.467</td>\n",
              "      <td>0.500</td>\n",
              "    </tr>\n",
              "    <tr>\n",
              "      <th>4</th>\n",
              "      <td>0.19</td>\n",
              "      <td>43832.0</td>\n",
              "      <td>0.38</td>\n",
              "      <td>0.580</td>\n",
              "      <td>1.0</td>\n",
              "      <td>0.78</td>\n",
              "      <td>0.797</td>\n",
              "      <td>0.080</td>\n",
              "    </tr>\n",
              "  </tbody>\n",
              "</table>\n",
              "</div>"
            ],
            "text/plain": [
              "   ChildPoverty  MedianIncome  Obama2008  ...  WhitePct  Ideology  GOP2party2010adj\n",
              "0          0.27       39597.0       0.39  ...      0.68     0.460             0.500\n",
              "1          0.29       37289.0       0.36  ...      0.67     0.443             0.011\n",
              "2          0.25       38079.0       0.43  ...      0.65     0.426             0.095\n",
              "3          0.26       35719.0       0.23  ...      0.90     0.467             0.500\n",
              "4          0.19       43832.0       0.38  ...      0.78     0.797             0.080\n",
              "\n",
              "[5 rows x 8 columns]"
            ]
          },
          "metadata": {
            "tags": []
          },
          "execution_count": 8
        }
      ]
    },
    {
      "cell_type": "code",
      "metadata": {
        "id": "3cMF7k5dlSBh",
        "colab_type": "code",
        "outputId": "8e8c43e7-7472-4fad-d263-9fb19da2f55f",
        "colab": {
          "base_uri": "https://localhost:8080/",
          "height": 470
        }
      },
      "source": [
        "RDadj = smf.ols(\"Ideology~GOP2party2010adj+GOPwin2010+GOP2party2010adj*GOPwin2010\",df).fit()\n",
        "print(RDadj.summary())"
      ],
      "execution_count": 21,
      "outputs": [
        {
          "output_type": "stream",
          "text": [
            "                            OLS Regression Results                            \n",
            "==============================================================================\n",
            "Dep. Variable:               Ideology   R-squared:                       0.929\n",
            "Model:                            OLS   Adj. R-squared:                  0.929\n",
            "Method:                 Least Squares   F-statistic:                     1868.\n",
            "Date:                Thu, 24 Oct 2019   Prob (F-statistic):          1.97e-245\n",
            "Time:                        02:13:03   Log-Likelihood:                 213.78\n",
            "No. Observations:                 432   AIC:                            -419.6\n",
            "Df Residuals:                     428   BIC:                            -403.3\n",
            "Df Model:                           3                                         \n",
            "Covariance Type:            nonrobust                                         \n",
            "===============================================================================================\n",
            "                                  coef    std err          t      P>|t|      [0.025      0.975]\n",
            "-----------------------------------------------------------------------------------------------\n",
            "Intercept                      -0.3133      0.018    -17.776      0.000      -0.348      -0.279\n",
            "GOP2party2010adj                0.5286      0.090      5.900      0.000       0.353       0.705\n",
            "GOPwin2010                      0.9816      0.024     41.646      0.000       0.935       1.028\n",
            "GOP2party2010adj:GOPwin2010    -0.4893      0.115     -4.263      0.000      -0.715      -0.264\n",
            "==============================================================================\n",
            "Omnibus:                        9.314   Durbin-Watson:                   1.674\n",
            "Prob(Omnibus):                  0.009   Jarque-Bera (JB):               15.056\n",
            "Skew:                           0.095   Prob(JB):                     0.000538\n",
            "Kurtosis:                       3.895   Cond. No.                         23.0\n",
            "==============================================================================\n",
            "\n",
            "Warnings:\n",
            "[1] Standard Errors assume that the covariance matrix of the errors is correctly specified.\n"
          ],
          "name": "stdout"
        }
      ]
    },
    {
      "cell_type": "markdown",
      "metadata": {
        "id": "D4SUlZy3s0_w",
        "colab_type": "text"
      },
      "source": [
        "The treatment value is about the same in this regression - GOP winners are .9816 higher on the conservative ideology scale than those who did not win. "
      ]
    },
    {
      "cell_type": "markdown",
      "metadata": {
        "id": "ZB2aw-YwtWtC",
        "colab_type": "text"
      },
      "source": [
        "(g)\tAssess whether there are discontinuities at GOPVote = 0.50 for ChildPoverty, MedianIncome, Obama2008, and WhitePct. Discuss the implications of your findings."
      ]
    },
    {
      "cell_type": "markdown",
      "metadata": {
        "id": "MjoLYckPZ69F",
        "colab_type": "text"
      },
      "source": [
        "First, we can take a look at scatterplots to see if the discontinuities are obvious"
      ]
    },
    {
      "cell_type": "code",
      "metadata": {
        "id": "jMxgGCLRuOlk",
        "colab_type": "code",
        "outputId": "ebb59bdd-dca8-41de-cfe2-01272a6c3505",
        "colab": {
          "base_uri": "https://localhost:8080/",
          "height": 295
        }
      },
      "source": [
        "plt.scatter(df.GOP2party2010, df.ChildPoverty,s=10)\n",
        "plt.title('Scatter plot')\n",
        "plt.xlabel('GOP2party2010')\n",
        "plt.ylabel('ChildPoverty')\n",
        "plt.show()"
      ],
      "execution_count": 0,
      "outputs": [
        {
          "output_type": "display_data",
          "data": {
            "image/png": "[encoded data removed]",
            "text/plain": [
              "<Figure size 432x288 with 1 Axes>"
            ]
          },
          "metadata": {
            "tags": []
          }
        }
      ]
    },
    {
      "cell_type": "code",
      "metadata": {
        "id": "GIzBLOa-uSEM",
        "colab_type": "code",
        "outputId": "6bd6bb04-bc17-4181-d08b-b5178a48936c",
        "colab": {
          "base_uri": "https://localhost:8080/",
          "height": 295
        }
      },
      "source": [
        "plt.scatter(df.GOP2party2010, df.MedianIncome,s=10)\n",
        "plt.title('Scatter plot')\n",
        "plt.xlabel('GOP2party2010')\n",
        "plt.ylabel('MedianIncome')\n",
        "plt.show()"
      ],
      "execution_count": 0,
      "outputs": [
        {
          "output_type": "display_data",
          "data": {
            "image/png": "[encoded data removed]",
            "text/plain": [
              "<Figure size 432x288 with 1 Axes>"
            ]
          },
          "metadata": {
            "tags": []
          }
        }
      ]
    },
    {
      "cell_type": "code",
      "metadata": {
        "id": "iGg7Aq9buS3N",
        "colab_type": "code",
        "outputId": "d42ee1db-a275-40c2-acd6-678b477d2819",
        "colab": {
          "base_uri": "https://localhost:8080/",
          "height": 295
        }
      },
      "source": [
        "plt.scatter(df.GOP2party2010, df.Obama2008,s=10)\n",
        "plt.title('Scatter plot')\n",
        "plt.xlabel('GOP2party2010')\n",
        "plt.ylabel('Obama2008')\n",
        "plt.show()"
      ],
      "execution_count": 0,
      "outputs": [
        {
          "output_type": "display_data",
          "data": {
            "image/png": "[encoded data removed]",
            "text/plain": [
              "<Figure size 432x288 with 1 Axes>"
            ]
          },
          "metadata": {
            "tags": []
          }
        }
      ]
    },
    {
      "cell_type": "code",
      "metadata": {
        "id": "XzC8yA8suTVN",
        "colab_type": "code",
        "outputId": "88c46fcb-ff40-42ec-c50c-738c7a047b44",
        "colab": {
          "base_uri": "https://localhost:8080/",
          "height": 295
        }
      },
      "source": [
        "plt.scatter(df.GOP2party2010, df.WhitePct,s=10)\n",
        "plt.title('Scatter plot')\n",
        "plt.xlabel('GOP2party2010')\n",
        "plt.ylabel('WhitePct')\n",
        "plt.show()"
      ],
      "execution_count": 0,
      "outputs": [
        {
          "output_type": "display_data",
          "data": {
            "image/png": "[encoded data removed]",
            "text/plain": [
              "<Figure size 432x288 with 1 Axes>"
            ]
          },
          "metadata": {
            "tags": []
          }
        }
      ]
    },
    {
      "cell_type": "markdown",
      "metadata": {
        "id": "KQ1sHkZzBJt3",
        "colab_type": "text"
      },
      "source": [
        "There don't appear to be discontinuities for any of these variables based on the scatterplots. However, binning will give us a clearer picture. "
      ]
    },
    {
      "cell_type": "code",
      "metadata": {
        "id": "Jf0rGdGeC17X",
        "colab_type": "code",
        "outputId": "b68f5b23-a29a-4c58-fa48-0b29466d6acf",
        "colab": {
          "base_uri": "https://localhost:8080/",
          "height": 302
        }
      },
      "source": [
        "!pip install rdd\n",
        "from rdd import rdd"
      ],
      "execution_count": 16,
      "outputs": [
        {
          "output_type": "stream",
          "text": [
            "Collecting rdd\n",
            "  Downloading https://files.pythonhosted.org/packages/b9/8b/867c4cae5a89a1765b73a1052be4c5fe301717ce6210dd58921d1b3d0ac4/rdd-0.0.3.tar.gz\n",
            "Requirement already satisfied: pandas in /usr/local/lib/python3.6/dist-packages (from rdd) (0.24.2)\n",
            "Requirement already satisfied: numpy in /usr/local/lib/python3.6/dist-packages (from rdd) (1.16.5)\n",
            "Requirement already satisfied: statsmodels in /usr/local/lib/python3.6/dist-packages (from rdd) (0.10.1)\n",
            "Requirement already satisfied: python-dateutil>=2.5.0 in /usr/local/lib/python3.6/dist-packages (from pandas->rdd) (2.5.3)\n",
            "Requirement already satisfied: pytz>=2011k in /usr/local/lib/python3.6/dist-packages (from pandas->rdd) (2018.9)\n",
            "Requirement already satisfied: patsy>=0.4.0 in /usr/local/lib/python3.6/dist-packages (from statsmodels->rdd) (0.5.1)\n",
            "Requirement already satisfied: scipy>=0.18 in /usr/local/lib/python3.6/dist-packages (from statsmodels->rdd) (1.3.1)\n",
            "Requirement already satisfied: six>=1.5 in /usr/local/lib/python3.6/dist-packages (from python-dateutil>=2.5.0->pandas->rdd) (1.12.0)\n",
            "Building wheels for collected packages: rdd\n",
            "  Building wheel for rdd (setup.py) ... \u001b[?25l\u001b[?25hdone\n",
            "  Created wheel for rdd: filename=rdd-0.0.3-cp36-none-any.whl size=4719 sha256=7e57a435d6d33e12c88e10d8537ff5b8afa8badd6cbbf9088c72c639e4881aab\n",
            "  Stored in directory: /root/.cache/pip/wheels/d9/05/bb/ddeaae29aff613c6588736b4b0ee4c652b5ef7bddcb0d828f8\n",
            "Successfully built rdd\n",
            "Installing collected packages: rdd\n",
            "Successfully installed rdd-0.0.3\n"
          ],
          "name": "stdout"
        }
      ]
    },
    {
      "cell_type": "code",
      "metadata": {
        "id": "19z9H3oeCyCP",
        "colab_type": "code",
        "colab": {}
      },
      "source": [
        "data_rdd = rdd.truncated_data(df, 'GOP2party2010', 1, cut=0.5)"
      ],
      "execution_count": 0,
      "outputs": []
    },
    {
      "cell_type": "code",
      "metadata": {
        "id": "dEbOR_sdB8Fl",
        "colab_type": "code",
        "outputId": "124ec796-5f4b-4a99-fc72-0ae01831fccc",
        "colab": {
          "base_uri": "https://localhost:8080/",
          "height": 283
        }
      },
      "source": [
        "data_binned = rdd.bin_data(data_rdd, 'ChildPoverty', 'GOP2party2010', 100)\n",
        "\n",
        "plt.scatter(data_binned['GOP2party2010'], data_binned['ChildPoverty'],\n",
        "    s = data_binned['n_obs'], facecolors='none', edgecolors='r')\n",
        "plt.axvline(x=.5, color='b')\n",
        "plt.xlabel('GOP2party2010')\n",
        "plt.ylabel('ChildPoverty')\n",
        "plt.show()\n",
        "plt.close()"
      ],
      "execution_count": 0,
      "outputs": [
        {
          "output_type": "display_data",
          "data": {
            "image/png": "[encoded data removed]",
            "text/plain": [
              "<Figure size 432x288 with 1 Axes>"
            ]
          },
          "metadata": {
            "tags": []
          }
        }
      ]
    },
    {
      "cell_type": "code",
      "metadata": {
        "id": "C28ubzHBEV4k",
        "colab_type": "code",
        "outputId": "487b567f-2973-4635-d45a-6d4039e1b8ab",
        "colab": {
          "base_uri": "https://localhost:8080/",
          "height": 283
        }
      },
      "source": [
        "data_binned = rdd.bin_data(data_rdd, 'MedianIncome', 'GOP2party2010', 100)\n",
        "\n",
        "plt.scatter(data_binned['GOP2party2010'], data_binned['MedianIncome'],\n",
        "    s = data_binned['n_obs'], facecolors='none', edgecolors='r')\n",
        "plt.axvline(x=.5, color='b')\n",
        "plt.xlabel('GOP2party2010')\n",
        "plt.ylabel('MedianIncome')\n",
        "plt.show()\n",
        "plt.close()"
      ],
      "execution_count": 0,
      "outputs": [
        {
          "output_type": "display_data",
          "data": {
            "image/png": "[encoded data removed]",
            "text/plain": [
              "<Figure size 432x288 with 1 Axes>"
            ]
          },
          "metadata": {
            "tags": []
          }
        }
      ]
    },
    {
      "cell_type": "code",
      "metadata": {
        "id": "wVXGVCalEhMi",
        "colab_type": "code",
        "outputId": "44d0d018-4fea-43d3-d895-4cfa5079fd04",
        "colab": {
          "base_uri": "https://localhost:8080/",
          "height": 283
        }
      },
      "source": [
        "data_binned = rdd.bin_data(data_rdd, 'Obama2008', 'GOP2party2010', 100)\n",
        "\n",
        "plt.scatter(data_binned['GOP2party2010'], data_binned['Obama2008'],\n",
        "    s = data_binned['n_obs'], facecolors='none', edgecolors='r')\n",
        "plt.axvline(x=.5, color='b')\n",
        "plt.xlabel('GOP2party2010')\n",
        "plt.ylabel('Obama2008')\n",
        "plt.show()\n",
        "plt.close()"
      ],
      "execution_count": 0,
      "outputs": [
        {
          "output_type": "display_data",
          "data": {
            "image/png": "[encoded data removed]",
            "text/plain": [
              "<Figure size 432x288 with 1 Axes>"
            ]
          },
          "metadata": {
            "tags": []
          }
        }
      ]
    },
    {
      "cell_type": "code",
      "metadata": {
        "id": "9tv1Z-tHEoAK",
        "colab_type": "code",
        "outputId": "730c9a39-bad1-41aa-c06e-c056a5dc91d8",
        "colab": {
          "base_uri": "https://localhost:8080/",
          "height": 283
        }
      },
      "source": [
        "data_binned = rdd.bin_data(data_rdd, 'WhitePct', 'GOP2party2010', 100)\n",
        "\n",
        "plt.scatter(data_binned['GOP2party2010'], data_binned['WhitePct'],\n",
        "    s = data_binned['n_obs'], facecolors='none', edgecolors='r')\n",
        "plt.axvline(x=.5, color='b')\n",
        "plt.xlabel('GOP2party2010')\n",
        "plt.ylabel('WhitePct')\n",
        "plt.show()\n",
        "plt.close()"
      ],
      "execution_count": 0,
      "outputs": [
        {
          "output_type": "display_data",
          "data": {
            "image/png": "[encoded data removed]",
            "text/plain": [
              "<Figure size 432x288 with 1 Axes>"
            ]
          },
          "metadata": {
            "tags": []
          }
        }
      ]
    },
    {
      "cell_type": "markdown",
      "metadata": {
        "id": "9fGhNrGPE9iD",
        "colab_type": "text"
      },
      "source": [
        "Binning makes it seem that there are slight discontinuities in ChildPoverty, MedianIncome, Obama2008, and WhitePct.  The discontinuity is most pronounced in WhitePct.  WhitePct clearly increases sharply as percentage of GOP vote increases, until the 50% mark where the slope is relatively flat around 80% WhitePct.\n",
        "\n",
        "Now, let's do a more formal analysis."
      ]
    },
    {
      "cell_type": "code",
      "metadata": {
        "id": "U1zlFh92aX03",
        "colab_type": "code",
        "colab": {
          "base_uri": "https://localhost:8080/",
          "height": 454
        },
        "outputId": "9785863c-0fc9-4962-cf06-d1050a894355"
      },
      "source": [
        "RDchild = smf.ols(\"ChildPoverty~GOP2party2010+GOPwin2010\",df).fit()\n",
        "print(RDchild.summary())"
      ],
      "execution_count": 10,
      "outputs": [
        {
          "output_type": "stream",
          "text": [
            "                            OLS Regression Results                            \n",
            "==============================================================================\n",
            "Dep. Variable:           ChildPoverty   R-squared:                       0.090\n",
            "Model:                            OLS   Adj. R-squared:                  0.086\n",
            "Method:                 Least Squares   F-statistic:                     21.46\n",
            "Date:                Thu, 24 Oct 2019   Prob (F-statistic):           1.30e-09\n",
            "Time:                        01:38:40   Log-Likelihood:                 480.88\n",
            "No. Observations:                 435   AIC:                            -955.8\n",
            "Df Residuals:                     432   BIC:                            -943.5\n",
            "Df Model:                           2                                         \n",
            "Covariance Type:            nonrobust                                         \n",
            "=================================================================================\n",
            "                    coef    std err          t      P>|t|      [0.025      0.975]\n",
            "---------------------------------------------------------------------------------\n",
            "Intercept         0.2567      0.012     21.504      0.000       0.233       0.280\n",
            "GOP2party2010    -0.0977      0.030     -3.222      0.001      -0.157      -0.038\n",
            "GOPwin2010       -0.0122      0.013     -0.963      0.336      -0.037       0.013\n",
            "==============================================================================\n",
            "Omnibus:                        6.013   Durbin-Watson:                   1.304\n",
            "Prob(Omnibus):                  0.049   Jarque-Bera (JB):                6.051\n",
            "Skew:                           0.265   Prob(JB):                       0.0485\n",
            "Kurtosis:                       2.769   Cond. No.                         11.3\n",
            "==============================================================================\n",
            "\n",
            "Warnings:\n",
            "[1] Standard Errors assume that the covariance matrix of the errors is correctly specified.\n"
          ],
          "name": "stdout"
        }
      ]
    },
    {
      "cell_type": "code",
      "metadata": {
        "id": "4UN3vvU8arGs",
        "colab_type": "code",
        "colab": {
          "base_uri": "https://localhost:8080/",
          "height": 454
        },
        "outputId": "0eba978a-faf4-4e0c-81a3-150c82030a99"
      },
      "source": [
        "RDinc = smf.ols(\"MedianIncome~GOP2party2010+GOPwin2010\",df).fit()\n",
        "print(RDinc.summary())"
      ],
      "execution_count": 11,
      "outputs": [
        {
          "output_type": "stream",
          "text": [
            "                            OLS Regression Results                            \n",
            "==============================================================================\n",
            "Dep. Variable:           MedianIncome   R-squared:                       0.001\n",
            "Model:                            OLS   Adj. R-squared:                 -0.003\n",
            "Method:                 Least Squares   F-statistic:                    0.2525\n",
            "Date:                Thu, 24 Oct 2019   Prob (F-statistic):              0.777\n",
            "Time:                        01:39:17   Log-Likelihood:                -4759.6\n",
            "No. Observations:                 435   AIC:                             9525.\n",
            "Df Residuals:                     432   BIC:                             9537.\n",
            "Df Model:                           2                                         \n",
            "Covariance Type:            nonrobust                                         \n",
            "=================================================================================\n",
            "                    coef    std err          t      P>|t|      [0.025      0.975]\n",
            "---------------------------------------------------------------------------------\n",
            "Intercept      5.086e+04   2036.612     24.972      0.000    4.69e+04    5.49e+04\n",
            "GOP2party2010  2920.0938   5171.928      0.565      0.573   -7245.178    1.31e+04\n",
            "GOPwin2010     -388.1231   2153.730     -0.180      0.857   -4621.217    3844.970\n",
            "==============================================================================\n",
            "Omnibus:                       61.168   Durbin-Watson:                   1.189\n",
            "Prob(Omnibus):                  0.000   Jarque-Bera (JB):               83.762\n",
            "Skew:                           1.002   Prob(JB):                     6.48e-19\n",
            "Kurtosis:                       3.776   Cond. No.                         11.3\n",
            "==============================================================================\n",
            "\n",
            "Warnings:\n",
            "[1] Standard Errors assume that the covariance matrix of the errors is correctly specified.\n"
          ],
          "name": "stdout"
        }
      ]
    },
    {
      "cell_type": "code",
      "metadata": {
        "id": "-GBE5mkuaybV",
        "colab_type": "code",
        "colab": {
          "base_uri": "https://localhost:8080/",
          "height": 454
        },
        "outputId": "47fcec0f-f9b6-4d0c-d106-a397ffa442b9"
      },
      "source": [
        "RDobama = smf.ols(\"Obama2008~GOP2party2010+GOPwin2010\",df).fit()\n",
        "print(RDobama.summary())"
      ],
      "execution_count": 12,
      "outputs": [
        {
          "output_type": "stream",
          "text": [
            "                            OLS Regression Results                            \n",
            "==============================================================================\n",
            "Dep. Variable:              Obama2008   R-squared:                       0.795\n",
            "Model:                            OLS   Adj. R-squared:                  0.794\n",
            "Method:                 Least Squares   F-statistic:                     837.7\n",
            "Date:                Thu, 24 Oct 2019   Prob (F-statistic):          2.16e-149\n",
            "Time:                        01:39:56   Log-Likelihood:                 558.52\n",
            "No. Observations:                 435   AIC:                            -1111.\n",
            "Df Residuals:                     432   BIC:                            -1099.\n",
            "Df Model:                           2                                         \n",
            "Covariance Type:            nonrobust                                         \n",
            "=================================================================================\n",
            "                    coef    std err          t      P>|t|      [0.025      0.975]\n",
            "---------------------------------------------------------------------------------\n",
            "Intercept         0.8529      0.010     85.406      0.000       0.833       0.873\n",
            "GOP2party2010    -0.5524      0.025    -21.783      0.000      -0.602      -0.503\n",
            "GOPwin2010       -0.0434      0.011     -4.109      0.000      -0.064      -0.023\n",
            "==============================================================================\n",
            "Omnibus:                       13.941   Durbin-Watson:                   1.740\n",
            "Prob(Omnibus):                  0.001   Jarque-Bera (JB):               25.440\n",
            "Skew:                          -0.161   Prob(JB):                     2.99e-06\n",
            "Kurtosis:                       4.140   Cond. No.                         11.3\n",
            "==============================================================================\n",
            "\n",
            "Warnings:\n",
            "[1] Standard Errors assume that the covariance matrix of the errors is correctly specified.\n"
          ],
          "name": "stdout"
        }
      ]
    },
    {
      "cell_type": "code",
      "metadata": {
        "id": "0evA2_yOa_tp",
        "colab_type": "code",
        "colab": {
          "base_uri": "https://localhost:8080/",
          "height": 454
        },
        "outputId": "26036225-06a7-4572-a360-e01b7d45c6a0"
      },
      "source": [
        "RDwhite = smf.ols(\"WhitePct~GOP2party2010+GOPwin2010\",df).fit()\n",
        "print(RDwhite.summary())"
      ],
      "execution_count": 13,
      "outputs": [
        {
          "output_type": "stream",
          "text": [
            "                            OLS Regression Results                            \n",
            "==============================================================================\n",
            "Dep. Variable:               WhitePct   R-squared:                       0.310\n",
            "Model:                            OLS   Adj. R-squared:                  0.307\n",
            "Method:                 Least Squares   F-statistic:                     97.10\n",
            "Date:                Thu, 24 Oct 2019   Prob (F-statistic):           1.49e-35\n",
            "Time:                        01:40:40   Log-Likelihood:                 107.16\n",
            "No. Observations:                 435   AIC:                            -208.3\n",
            "Df Residuals:                     432   BIC:                            -196.1\n",
            "Df Model:                           2                                         \n",
            "Covariance Type:            nonrobust                                         \n",
            "=================================================================================\n",
            "                    coef    std err          t      P>|t|      [0.025      0.975]\n",
            "---------------------------------------------------------------------------------\n",
            "Intercept         0.3985      0.028     14.138      0.000       0.343       0.454\n",
            "GOP2party2010     0.4938      0.072      6.899      0.000       0.353       0.635\n",
            "GOPwin2010        0.0595      0.030      1.997      0.046       0.001       0.118\n",
            "==============================================================================\n",
            "Omnibus:                       19.472   Durbin-Watson:                   0.901\n",
            "Prob(Omnibus):                  0.000   Jarque-Bera (JB):               21.366\n",
            "Skew:                          -0.541   Prob(JB):                     2.29e-05\n",
            "Kurtosis:                       2.906   Cond. No.                         11.3\n",
            "==============================================================================\n",
            "\n",
            "Warnings:\n",
            "[1] Standard Errors assume that the covariance matrix of the errors is correctly specified.\n"
          ],
          "name": "stdout"
        }
      ]
    },
    {
      "cell_type": "markdown",
      "metadata": {
        "id": "RcvgQgG7bGuy",
        "colab_type": "text"
      },
      "source": [
        "Both Obama2008 and WhitePct have statistically significant discontinuities."
      ]
    },
    {
      "cell_type": "markdown",
      "metadata": {
        "id": "_HVO4UkqtUrn",
        "colab_type": "text"
      },
      "source": [
        "(h)\tEstimate a varying-slopes model controlling for ChildPoverty, MedianIncome, Obama2008, and WhitePct. Discuss these results in light of your findings from part (g). \n",
        "\n"
      ]
    },
    {
      "cell_type": "code",
      "metadata": {
        "id": "nmWuA4pJvM2I",
        "colab_type": "code",
        "outputId": "7bea20d1-d63f-4887-a24d-3562fd3abdc6",
        "colab": {
          "base_uri": "https://localhost:8080/",
          "height": 571
        }
      },
      "source": [
        "RDall = smf.ols(\"Ideology~GOP2party2010+GOPwin2010+GOP2party2010*GOPwin2010+ChildPoverty+MedianIncome+Obama2008+WhitePct\",df).fit()\n",
        "print(RDall.summary())"
      ],
      "execution_count": 14,
      "outputs": [
        {
          "output_type": "stream",
          "text": [
            "                            OLS Regression Results                            \n",
            "==============================================================================\n",
            "Dep. Variable:               Ideology   R-squared:                       0.936\n",
            "Model:                            OLS   Adj. R-squared:                  0.935\n",
            "Method:                 Least Squares   F-statistic:                     879.6\n",
            "Date:                Thu, 24 Oct 2019   Prob (F-statistic):          5.70e-248\n",
            "Time:                        01:43:47   Log-Likelihood:                 234.58\n",
            "No. Observations:                 432   AIC:                            -453.2\n",
            "Df Residuals:                     424   BIC:                            -420.6\n",
            "Df Model:                           7                                         \n",
            "Covariance Type:            nonrobust                                         \n",
            "============================================================================================\n",
            "                               coef    std err          t      P>|t|      [0.025      0.975]\n",
            "--------------------------------------------------------------------------------------------\n",
            "Intercept                    0.0104      0.156      0.067      0.947      -0.297       0.318\n",
            "GOP2party2010               -0.0476      0.142     -0.336      0.737      -0.326       0.231\n",
            "GOPwin2010                   1.0513      0.071     14.757      0.000       0.911       1.191\n",
            "GOP2party2010:GOPwin2010    -0.1771      0.137     -1.297      0.196      -0.446       0.091\n",
            "ChildPoverty                 0.2651      0.189      1.406      0.160      -0.105       0.636\n",
            "MedianIncome              2.121e-06   1.01e-06      2.103      0.036    1.38e-07     4.1e-06\n",
            "Obama2008                   -0.7905      0.124     -6.362      0.000      -1.035      -0.546\n",
            "WhitePct                    -0.0609      0.050     -1.223      0.222      -0.159       0.037\n",
            "==============================================================================\n",
            "Omnibus:                       11.586   Durbin-Watson:                   1.646\n",
            "Prob(Omnibus):                  0.003   Jarque-Bera (JB):               22.116\n",
            "Skew:                          -0.037   Prob(JB):                     1.58e-05\n",
            "Kurtosis:                       4.106   Cond. No.                     1.97e+06\n",
            "==============================================================================\n",
            "\n",
            "Warnings:\n",
            "[1] Standard Errors assume that the covariance matrix of the errors is correctly specified.\n",
            "[2] The condition number is large, 1.97e+06. This might indicate that there are\n",
            "strong multicollinearity or other numerical problems.\n"
          ],
          "name": "stdout"
        }
      ]
    },
    {
      "cell_type": "markdown",
      "metadata": {
        "id": "JZk3bf2mdZ7k",
        "colab_type": "text"
      },
      "source": [
        "The treatment effect is about .07 higher when controlling for the additional variables.  Obama2008 and WhitePct were biasing the results downward previously."
      ]
    },
    {
      "cell_type": "markdown",
      "metadata": {
        "id": "nZqQ_DGuy020",
        "colab_type": "text"
      },
      "source": [
        "(i)\tEstimate a varying-slopes model with a window of GOP vote share from 0.4 to 0.6. Discuss any meaningful differences in coefficients and standard errors from the earlier varying-slopes model."
      ]
    },
    {
      "cell_type": "code",
      "metadata": {
        "id": "bRNpDOWtH-YO",
        "colab_type": "code",
        "outputId": "88d6c23c-e631-48bf-ff00-37b46ae23963",
        "colab": {
          "base_uri": "https://localhost:8080/",
          "height": 283
        }
      },
      "source": [
        "data_rdd2 = rdd.truncated_data(df, 'GOP2party2010', .1, cut=0.5)\n",
        "data_binned = rdd.bin_data(data_rdd2, 'Ideology', 'GOP2party2010', 100)\n",
        "\n",
        "plt.scatter(data_binned['GOP2party2010'], data_binned['Ideology'],\n",
        "    s = data_binned['n_obs'], facecolors='none', edgecolors='r')\n",
        "plt.axvline(x=.5, color='b')\n",
        "plt.xlabel('GOP2party2010')\n",
        "plt.ylabel('Ideology')\n",
        "plt.show()\n",
        "plt.close()"
      ],
      "execution_count": 19,
      "outputs": [
        {
          "output_type": "display_data",
          "data": {
            "image/png": "[encoded data removed]",
            "text/plain": [
              "<Figure size 432x288 with 1 Axes>"
            ]
          },
          "metadata": {
            "tags": []
          }
        }
      ]
    },
    {
      "cell_type": "code",
      "metadata": {
        "id": "HskS_YrdIMrV",
        "colab_type": "code",
        "outputId": "efb678f8-d4d3-4d17-fa6f-3e29ef70bd56",
        "colab": {
          "base_uri": "https://localhost:8080/",
          "height": 571
        }
      },
      "source": [
        "RDtrunc = smf.ols(\"Ideology~GOP2party2010+GOPwin2010+GOP2party2010*GOPwin2010+ChildPoverty+MedianIncome+Obama2008+WhitePct\",data_rdd2).fit()\n",
        "print(RDtrunc.summary())"
      ],
      "execution_count": 18,
      "outputs": [
        {
          "output_type": "stream",
          "text": [
            "                            OLS Regression Results                            \n",
            "==============================================================================\n",
            "Dep. Variable:               Ideology   R-squared:                       0.925\n",
            "Model:                            OLS   Adj. R-squared:                  0.921\n",
            "Method:                 Least Squares   F-statistic:                     255.5\n",
            "Date:                Thu, 24 Oct 2019   Prob (F-statistic):           3.26e-78\n",
            "Time:                        01:48:20   Log-Likelihood:                 85.330\n",
            "No. Observations:                 153   AIC:                            -154.7\n",
            "Df Residuals:                     145   BIC:                            -130.4\n",
            "Df Model:                           7                                         \n",
            "Covariance Type:            nonrobust                                         \n",
            "============================================================================================\n",
            "                               coef    std err          t      P>|t|      [0.025      0.975]\n",
            "--------------------------------------------------------------------------------------------\n",
            "Intercept                   -0.3330      0.381     -0.874      0.384      -1.086       0.420\n",
            "GOP2party2010                0.8688      0.623      1.394      0.165      -0.363       2.101\n",
            "GOPwin2010                   1.2014      0.434      2.765      0.006       0.343       2.060\n",
            "GOP2party2010:GOPwin2010    -0.6745      0.864     -0.781      0.436      -2.382       1.033\n",
            "ChildPoverty                 0.2694      0.356      0.758      0.450      -0.433       0.972\n",
            "MedianIncome              9.332e-07   1.75e-06      0.535      0.594   -2.52e-06    4.38e-06\n",
            "Obama2008                   -0.7900      0.206     -3.826      0.000      -1.198      -0.382\n",
            "WhitePct                    -0.0549      0.089     -0.616      0.539      -0.231       0.121\n",
            "==============================================================================\n",
            "Omnibus:                        4.021   Durbin-Watson:                   1.582\n",
            "Prob(Omnibus):                  0.134   Jarque-Bera (JB):                3.613\n",
            "Skew:                          -0.285   Prob(JB):                        0.164\n",
            "Kurtosis:                       3.492   Cond. No.                     5.17e+06\n",
            "==============================================================================\n",
            "\n",
            "Warnings:\n",
            "[1] Standard Errors assume that the covariance matrix of the errors is correctly specified.\n",
            "[2] The condition number is large, 5.17e+06. This might indicate that there are\n",
            "strong multicollinearity or other numerical problems.\n"
          ],
          "name": "stdout"
        }
      ]
    },
    {
      "cell_type": "markdown",
      "metadata": {
        "id": "D7olPMZ2egtG",
        "colab_type": "text"
      },
      "source": [
        "The treatment result is no longer statistically significant at the 5% level(barely), but the coefficient increased greatly by .15 compared to the result from the model that used the full range of vote percentages."
      ]
    },
    {
      "cell_type": "markdown",
      "metadata": {
        "id": "7oC6AEy1zfAM",
        "colab_type": "text"
      },
      "source": [
        "(j)\tWhich estimate is the most credible?"
      ]
    },
    {
      "cell_type": "markdown",
      "metadata": {
        "id": "vsya4uLwLdMz",
        "colab_type": "text"
      },
      "source": [
        "The result with the window of GOP vote share from .4 to .6 is most credible because it compares similar, moderate districts instead of including outliers in the regression that may skew the results.  "
      ]
    }
  ]
}